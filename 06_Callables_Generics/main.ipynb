{
  "cells": [
    {
      "cell_type": "markdown",
      "metadata": {
        "id": "view-in-github",
        "colab_type": "text"
      },
      "source": [
        "<a href=\"https://colab.research.google.com/github/AbdullahMalik17/Agentic_AI/blob/main/06_Callables_Generics/main.ipynb\" target=\"_parent\"><img src=\"https://colab.research.google.com/assets/colab-badge.svg\" alt=\"Open In Colab\"/></a>"
      ]
    },
    {
      "cell_type": "markdown",
      "id": "zMFGc2HGEU2m",
      "metadata": {
        "id": "zMFGc2HGEU2m"
      },
      "source": [
        "# Callables\n",
        "Callables are the functions , objects which can be called ."
      ]
    },
    {
      "cell_type": "code",
      "execution_count": null,
      "id": "afD00UMsEeMb",
      "metadata": {
        "colab": {
          "base_uri": "https://localhost:8080/"
        },
        "id": "afD00UMsEeMb",
        "outputId": "286d7e6d-f3ca-4a1e-fdc9-9baa1ef24843"
      },
      "outputs": [
        {
          "name": "stdout",
          "output_type": "stream",
          "text": [
            "typing.Callable[[int, str], int]\n"
          ]
        }
      ],
      "source": [
        "from typing import Callable\n",
        "my_func = Callable[[int,int],str] # First braket shows input while other term shows output .\n",
        "\n",
        "print(my_func)"
      ]
    },
    {
      "cell_type": "code",
      "execution_count": null,
      "id": "HGcCO9xqLu6a",
      "metadata": {
        "colab": {
          "base_uri": "https://localhost:8080/"
        },
        "id": "HGcCO9xqLu6a",
        "outputId": "6729ed1b-959a-4b6f-c230-9ecadc893464"
      },
      "outputs": [
        {
          "name": "stdout",
          "output_type": "stream",
          "text": [
            "147\n"
          ]
        }
      ],
      "source": [
        "from dataclasses import dataclass\n",
        "from typing import Callable\n",
        "@dataclass\n",
        "class Calculator:\n",
        "  operation : Callable[[int,int],str]\n",
        "  def calculate(self,a:int,b:int):\n",
        "    return self.operation(a,b)\n",
        "# making a function to give in Calculator Class .\n",
        "def addition(x:int,y:int)->str:\n",
        "  return str(x+y)\n",
        "\n",
        "calculator_addition = Calculator(operation=addition)\n",
        "print(calculator_addition.calculate(58,89))"
      ]
    },
    {
      "cell_type": "code",
      "execution_count": null,
      "id": "tXclO_e5UEYV",
      "metadata": {
        "colab": {
          "base_uri": "https://localhost:8080/"
        },
        "id": "tXclO_e5UEYV",
        "outputId": "f96f4db2-a1fc-456a-8d5f-1a84fc54dc0f"
      },
      "outputs": [
        {
          "name": "stdout",
          "output_type": "stream",
          "text": [
            "1\n",
            "a\n"
          ]
        }
      ],
      "source": [
        "# We import TypeVar\n",
        "from typing import TypeVar, List\n",
        "# => We use T because It is used globally like used by OpenAI .\n",
        "\n",
        "T = TypeVar('T')  # T is a generic type\n",
        "\n",
        "def get_first(items: List[T]) -> T:\n",
        "    return items[0]\n",
        "num = [1,2,3]\n",
        "string1 = ['a','b','c']\n",
        "print(get_first(num))\n",
        "print(get_first(string1))\n",
        "\n",
        "#Infer\n",
        "# 1. T is like fill in the blank .\n",
        "# 2. T gives the types which the data is given ."
      ]
    },
    {
      "cell_type": "markdown",
      "id": "oifFUGVO0F8e",
      "metadata": {
        "id": "oifFUGVO0F8e"
      },
      "source": [
        "# Working with Obect\n"
      ]
    },
    {
      "cell_type": "code",
      "execution_count": 1,
      "id": "U7a6GuylVntv",
      "metadata": {
        "id": "U7a6GuylVntv"
      },
      "outputs": [],
      "source": [
        "from typing import TypeVar\n",
        "K = TypeVar(\"K\") # type for key\n",
        "L = TypeVar(\"L\") # type for value\n",
        "\"\"\"\n",
        "We make the function that takes arguments in form of dictionary and key . and return the key value .\n",
        "\"\"\"\n",
        "def getdata(container1:dict[K,L],key : K) ->L:\n",
        "  return container1[key]\n"
      ]
    },
    {
      "cell_type": "code",
      "execution_count": null,
      "id": "7umq0Z-d1nXV",
      "metadata": {
        "colab": {
          "base_uri": "https://localhost:8080/"
        },
        "id": "7umq0Z-d1nXV",
        "outputId": "1d933816-84c9-45e7-8529-1d574d8e4f63"
      },
      "outputs": [
        {
          "data": {
            "text/plain": [
              "1"
            ]
          },
          "execution_count": 12,
          "metadata": {},
          "output_type": "execute_result"
        }
      ],
      "source": [
        "object1 :dict = {\"a\":1 , \"b\":2}\n",
        "getdata(object1,key=\"a\")"
      ]
    },
    {
      "cell_type": "markdown",
      "id": "3UaMiIEt6i5t",
      "metadata": {
        "id": "3UaMiIEt6i5t"
      },
      "source": [
        "# Generic Working with class\n"
      ]
    },
    {
      "cell_type": "code",
      "execution_count": null,
      "id": "V0jBV1iP6gCg",
      "metadata": {
        "colab": {
          "base_uri": "https://localhost:8080/"
        },
        "id": "V0jBV1iP6gCg",
        "outputId": "f2e214d2-1f4b-4478-96e3-a22e6a0516f6"
      },
      "outputs": [
        {
          "name": "stdout",
          "output_type": "stream",
          "text": [
            "Stack(items=[1, 2, 3])\n"
          ]
        }
      ],
      "source": [
        "from typing import ClassVar , Generic\n",
        "from dataclasses import dataclass , field\n",
        "@dataclass\n",
        "class Stack(Generic[T]):\n",
        "  items : list[T] = field(default_factory=list)\n",
        "  limit : ClassVar[int] = 10\n",
        "\n",
        "  def push(self , data:T):\n",
        "    self.items.append(data)\n",
        "  def pop(self):\n",
        "    self.items.pop()\n",
        "\n",
        "int_items = Stack()\n",
        "int_items.push(1)\n",
        "int_items.push(2)\n",
        "int_items.push(3)\n",
        "int_items.push(4)\n",
        "int_items.pop()\n",
        "print(int_items)\n"
      ]
    },
    {
      "cell_type": "markdown",
      "id": "e911f63c",
      "metadata": {
        "id": "e911f63c"
      },
      "source": []
    },
    {
      "cell_type": "code",
      "execution_count": null,
      "id": "58673c0e",
      "metadata": {
        "id": "58673c0e"
      },
      "outputs": [],
      "source": []
    }
  ],
  "metadata": {
    "colab": {
      "provenance": [],
      "include_colab_link": true
    },
    "kernelspec": {
      "display_name": "Python 3",
      "name": "python3"
    },
    "language_info": {
      "name": "python"
    }
  },
  "nbformat": 4,
  "nbformat_minor": 5
}