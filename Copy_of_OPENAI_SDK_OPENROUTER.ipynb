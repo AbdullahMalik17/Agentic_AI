{
  "nbformat": 4,
  "nbformat_minor": 0,
  "metadata": {
    "colab": {
      "provenance": [],
      "include_colab_link": true
    },
    "kernelspec": {
      "name": "python3",
      "display_name": "Python 3"
    },
    "language_info": {
      "name": "python"
    }
  },
  "cells": [
    {
      "cell_type": "markdown",
      "metadata": {
        "id": "view-in-github",
        "colab_type": "text"
      },
      "source": [
        "<a href=\"https://colab.research.google.com/github/AbdullahMalik17/Agentic_AI/blob/main/Copy_of_OPENAI_SDK_OPENROUTER.ipynb\" target=\"_parent\"><img src=\"https://colab.research.google.com/assets/colab-badge.svg\" alt=\"Open In Colab\"/></a>"
      ]
    },
    {
      "cell_type": "markdown",
      "source": [
        "# Use OpenRouter With OpenAI Agents SDK"
      ],
      "metadata": {
        "id": "o92NPvIPpmCv"
      }
    },
    {
      "cell_type": "markdown",
      "source": [
        "Setup Prerequisite:\n",
        "\n",
        "1. [Signup at OpenRouter](https://openrouter.ai/)\n",
        "2. [Create an API Key](https://openrouter.ai/settings/keys)\n",
        "2. Select a Free Model (you can continue as we are using a free model here)"
      ],
      "metadata": {
        "id": "l5oT3E8gqY_O"
      }
    },
    {
      "cell_type": "markdown",
      "source": [
        "## Free and Paid Models"
      ],
      "metadata": {
        "id": "-Zh5JPz1qLbD"
      }
    },
    {
      "cell_type": "markdown",
      "source": [
        "The OpenRouter supports the latest DeepSeek V3 0324 and 50+ other models for free. Most of them support the defacto standard: OpenAI Chat Completion API.\n",
        "\n",
        "\n",
        "If you are using a free model variant (with an ID ending in :free), then you will be limited to 20 requests per minute and 200 requests per day.\n",
        "\n",
        "**See all Models List: https://openrouter.ai/models**\n",
        "\n",
        "Note: OpenRouter do not charge anything extra at inference time."
      ],
      "metadata": {
        "id": "3NksiafzqSg7"
      }
    },
    {
      "cell_type": "markdown",
      "source": [
        "## Rate Limiting and Crediting"
      ],
      "metadata": {
        "id": "Krf3ozmkpsVs"
      }
    },
    {
      "cell_type": "markdown",
      "source": [
        "There are a few rate limits that apply to certain types of requests, regardless of account status:\n",
        "\n",
        "- Free limit: If you are using a free model variant (with an ID ending in :free), then you will be limited to 20 requests per minute and 200 requests per day.\n",
        "\n",
        "If your account has a negative credit balance, you may see 402 errors, including for free models. Adding credits to put your balance above zero allows you to use those models again.\n",
        "\n",
        "[Reference](https://openrouter.ai/docs/api-reference/limits)"
      ],
      "metadata": {
        "id": "WhcFykdIqKI4"
      }
    },
    {
      "cell_type": "markdown",
      "source": [
        "## Install OpenAI Agents Dep."
      ],
      "metadata": {
        "id": "GqX_s5idrryf"
      }
    },
    {
      "cell_type": "code",
      "execution_count": 2,
      "metadata": {
        "id": "7teAe2rONlBe",
        "colab": {
          "base_uri": "https://localhost:8080/"
        },
        "outputId": "2464046b-e029-46a6-a0c3-4e7e90e8792e"
      },
      "outputs": [
        {
          "output_type": "stream",
          "name": "stdout",
          "text": [
            "\u001b[2K     \u001b[90m━━━━━━━━━━━━━━━━━━━━━━━━━━━━━━━━━━━━━━━━\u001b[0m \u001b[32m40.1/40.1 kB\u001b[0m \u001b[31m3.6 MB/s\u001b[0m eta \u001b[36m0:00:00\u001b[0m\n",
            "\u001b[2K   \u001b[90m━━━━━━━━━━━━━━━━━━━━━━━━━━━━━━━━━━━━━━━━\u001b[0m \u001b[32m130.6/130.6 kB\u001b[0m \u001b[31m11.1 MB/s\u001b[0m eta \u001b[36m0:00:00\u001b[0m\n",
            "\u001b[2K   \u001b[90m━━━━━━━━━━━━━━━━━━━━━━━━━━━━━━━━━━━━━━━━\u001b[0m \u001b[32m129.3/129.3 kB\u001b[0m \u001b[31m11.9 MB/s\u001b[0m eta \u001b[36m0:00:00\u001b[0m\n",
            "\u001b[2K   \u001b[90m━━━━━━━━━━━━━━━━━━━━━━━━━━━━━━━━━━━━━━━━\u001b[0m \u001b[32m150.9/150.9 kB\u001b[0m \u001b[31m14.7 MB/s\u001b[0m eta \u001b[36m0:00:00\u001b[0m\n",
            "\u001b[2K   \u001b[90m━━━━━━━━━━━━━━━━━━━━━━━━━━━━━━━━━━━━━━━━\u001b[0m \u001b[32m45.2/45.2 kB\u001b[0m \u001b[31m4.0 MB/s\u001b[0m eta \u001b[36m0:00:00\u001b[0m\n",
            "\u001b[?25h"
          ]
        }
      ],
      "source": [
        "!pip install -Uq openai-agents"
      ]
    },
    {
      "cell_type": "code",
      "source": [
        "import nest_asyncio\n",
        "nest_asyncio.apply()"
      ],
      "metadata": {
        "id": "z3_PWpn4OIyT"
      },
      "execution_count": 3,
      "outputs": []
    },
    {
      "cell_type": "markdown",
      "source": [
        "## Provider Config"
      ],
      "metadata": {
        "id": "ZTOibVJuN_pi"
      }
    },
    {
      "cell_type": "code",
      "source": [
        "from google.colab import userdata\n",
        "\n",
        "OPENROUTER_API_KEY = userdata.get(\"OPENROUTER_API_KEY\")"
      ],
      "metadata": {
        "id": "zvmgohqY0-Wm"
      },
      "execution_count": 4,
      "outputs": []
    },
    {
      "cell_type": "code",
      "source": [
        "#Reference: https://openrouter.ai/docs/quickstart\n",
        "\n",
        "BASE_URL = \"https://openrouter.ai/api/v1\"\n",
        "MODEL = \"mistralai/mistral-small-24b-instruct-2501:free\"\n",
        "\n",
        "# Some other free models on 26th March:\n",
        "# https://openrouter.ai/deepseek/deepseek-chat-v3-0324:free\n",
        "# https://openrouter.ai/google/gemini-2.5-pro-exp-03-25:free"
      ],
      "metadata": {
        "id": "DeTqCZKGlVk_"
      },
      "execution_count": 5,
      "outputs": []
    },
    {
      "cell_type": "markdown",
      "source": [
        "## 1. Using the OpenRouter API directly"
      ],
      "metadata": {
        "id": "IyWF4XNPtI7f"
      }
    },
    {
      "cell_type": "code",
      "source": [
        "BASE_URL"
      ],
      "metadata": {
        "colab": {
          "base_uri": "https://localhost:8080/",
          "height": 35
        },
        "id": "GDt4_3lCuS4E",
        "outputId": "8113b473-7038-402f-8b27-d7d763fd55bf"
      },
      "execution_count": 6,
      "outputs": [
        {
          "output_type": "execute_result",
          "data": {
            "text/plain": [
              "'https://openrouter.ai/api/v1'"
            ],
            "application/vnd.google.colaboratory.intrinsic+json": {
              "type": "string"
            }
          },
          "metadata": {},
          "execution_count": 6
        }
      ]
    },
    {
      "cell_type": "code",
      "source": [
        "import requests\n",
        "import json\n",
        "\n",
        "response = requests.post(\n",
        "  url=f\"https://openrouter.ai/api/v1/chat/completions\",\n",
        "  headers={\n",
        "    \"Authorization\": f\"Bearer {OPENROUTER_API_KEY}\",\n",
        "  },\n",
        "  data=json.dumps({\n",
        "    \"model\": MODEL,\n",
        "    \"messages\": [\n",
        "      {\n",
        "        \"role\": \"user\",\n",
        "        \"content\": \"Hi, i have 1000 pkr i want you to convert into usd\"\n",
        "      }\n",
        "    ]\n",
        "  })\n",
        ")\n",
        "\n",
        "print(response.json())"
      ],
      "metadata": {
        "colab": {
          "base_uri": "https://localhost:8080/"
        },
        "id": "e0if6eGutM9h",
        "outputId": "84df46ce-a503-4e3c-9935-099700af7615"
      },
      "execution_count": 7,
      "outputs": [
        {
          "output_type": "stream",
          "name": "stdout",
          "text": [
            "{'id': 'gen-1751627800-7uNRnalEkhpmIOnBfIly', 'provider': 'Chutes', 'model': 'mistralai/mistral-small-24b-instruct-2501:free', 'object': 'chat.completion', 'created': 1751627800, 'choices': [{'logprobs': None, 'finish_reason': 'stop', 'native_finish_reason': 'stop', 'index': 0, 'message': {'role': 'assistant', 'content': \"The conversion rate between Pakistani Rupees (PKR) and United States Dollars (USD) can fluctuate, so the current exchange rate will determine the exact amount in USD.\\n\\nAs of my last update in October 2023, I can't provide real-time exchange rates, but you can check a reliable financial website or use a currency converter to get the most accurate and up-to-date conversion rate.\\n\\nFor instance, if the exchange rate is 1 USD = 250 PKR (just an example rate), you would calculate:\\n\\n1000 PKR / 250 PKR/USD = 4 USD\\n\\nAgain, please verify the current exchange rate for an accurate conversion.\", 'refusal': None, 'reasoning': None}}], 'usage': {'prompt_tokens': 23, 'completion_tokens': 146, 'total_tokens': 169, 'prompt_tokens_details': None}}\n"
          ]
        }
      ]
    },
    {
      "cell_type": "code",
      "source": [
        "data = response.json()\n",
        "data['choices'][0]['message']['content']"
      ],
      "metadata": {
        "colab": {
          "base_uri": "https://localhost:8080/",
          "height": 87
        },
        "id": "mv3B6_oRto5S",
        "outputId": "6c3d7552-8683-4b07-8b53-ea7fe2e72613"
      },
      "execution_count": 8,
      "outputs": [
        {
          "output_type": "execute_result",
          "data": {
            "text/plain": [
              "\"The conversion rate between Pakistani Rupees (PKR) and United States Dollars (USD) can fluctuate, so the current exchange rate will determine the exact amount in USD.\\n\\nAs of my last update in October 2023, I can't provide real-time exchange rates, but you can check a reliable financial website or use a currency converter to get the most accurate and up-to-date conversion rate.\\n\\nFor instance, if the exchange rate is 1 USD = 250 PKR (just an example rate), you would calculate:\\n\\n1000 PKR / 250 PKR/USD = 4 USD\\n\\nAgain, please verify the current exchange rate for an accurate conversion.\""
            ],
            "application/vnd.google.colaboratory.intrinsic+json": {
              "type": "string"
            }
          },
          "metadata": {},
          "execution_count": 8
        }
      ]
    },
    {
      "cell_type": "markdown",
      "source": [
        "## 2. Using OpenAI Agents SDK"
      ],
      "metadata": {
        "id": "E_jESzWAsu91"
      }
    },
    {
      "cell_type": "code",
      "source": [
        "import asyncio\n",
        "from openai import AsyncOpenAI # chat completions\n",
        "from agents import Agent, OpenAIChatCompletionsModel, Runner, set_tracing_disabled\n",
        "\n",
        "set_tracing_disabled(disabled=True) # Open AI Tracing == Disable\n",
        "\n",
        "client = AsyncOpenAI(\n",
        "    api_key=OPENROUTER_API_KEY,\n",
        "    base_url=BASE_URL\n",
        ")\n",
        "\n",
        "\n",
        "async def main():\n",
        "    # This agent will use the custom LLM provider\n",
        "    agent = Agent(\n",
        "        name=\"LahoreTA\",\n",
        "        instructions=\"You only respond in english in multi lines\",\n",
        "        model=OpenAIChatCompletionsModel(model=MODEL, openai_client=client),\n",
        "    )\n",
        "\n",
        "    result = await Runner.run(\n",
        "        agent, # starting agent\n",
        "        \"What is your name?. Are you chatgpt model\", # request\n",
        "    )\n",
        "    print(result.final_output)\n",
        "\n",
        "\n",
        "asyncio.run(main())"
      ],
      "metadata": {
        "colab": {
          "base_uri": "https://localhost:8080/"
        },
        "id": "xrJVAu7cwe5u",
        "outputId": "fcd748b9-5684-4f40-b8fa-5e4592ab9ed0"
      },
      "execution_count": 9,
      "outputs": [
        {
          "output_type": "stream",
          "name": "stdout",
          "text": [
            "I don't have a name. I am a machine learning model designed to understand and generate text based on the input I receive. I am not the same model as ChatGPT, but I am designed to assist and engage in conversation to the best of my ability.\n",
            "\n",
            "How can I assist you today? If you have any questions or need information on a specific topic, feel free to ask.\n"
          ]
        }
      ]
    },
    {
      "cell_type": "code",
      "source": [
        "response.json()"
      ],
      "metadata": {
        "id": "x3omnVOp0feN",
        "outputId": "14dab2d4-8ad0-40df-ffe6-bf16beab8e3f",
        "colab": {
          "base_uri": "https://localhost:8080/"
        }
      },
      "execution_count": 10,
      "outputs": [
        {
          "output_type": "execute_result",
          "data": {
            "text/plain": [
              "{'id': 'gen-1751627800-7uNRnalEkhpmIOnBfIly',\n",
              " 'provider': 'Chutes',\n",
              " 'model': 'mistralai/mistral-small-24b-instruct-2501:free',\n",
              " 'object': 'chat.completion',\n",
              " 'created': 1751627800,\n",
              " 'choices': [{'logprobs': None,\n",
              "   'finish_reason': 'stop',\n",
              "   'native_finish_reason': 'stop',\n",
              "   'index': 0,\n",
              "   'message': {'role': 'assistant',\n",
              "    'content': \"The conversion rate between Pakistani Rupees (PKR) and United States Dollars (USD) can fluctuate, so the current exchange rate will determine the exact amount in USD.\\n\\nAs of my last update in October 2023, I can't provide real-time exchange rates, but you can check a reliable financial website or use a currency converter to get the most accurate and up-to-date conversion rate.\\n\\nFor instance, if the exchange rate is 1 USD = 250 PKR (just an example rate), you would calculate:\\n\\n1000 PKR / 250 PKR/USD = 4 USD\\n\\nAgain, please verify the current exchange rate for an accurate conversion.\",\n",
              "    'refusal': None,\n",
              "    'reasoning': None}}],\n",
              " 'usage': {'prompt_tokens': 23,\n",
              "  'completion_tokens': 146,\n",
              "  'total_tokens': 169,\n",
              "  'prompt_tokens_details': None}}"
            ]
          },
          "metadata": {},
          "execution_count": 10
        }
      ]
    }
  ]
}