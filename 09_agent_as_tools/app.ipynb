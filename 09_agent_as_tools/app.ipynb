{
  "cells": [
    {
      "cell_type": "markdown",
      "metadata": {
        "id": "view-in-github",
        "colab_type": "text"
      },
      "source": [
        "<a href=\"https://colab.research.google.com/github/AbdullahMalik17/Agentic_AI/blob/main/app.ipynb\" target=\"_parent\"><img src=\"https://colab.research.google.com/assets/colab-badge.svg\" alt=\"Open In Colab\"/></a>"
      ]
    },
    {
      "cell_type": "markdown",
      "id": "48410e59",
      "metadata": {
        "id": "48410e59"
      },
      "source": [
        "# We are making the agent which uses agents as tools."
      ]
    },
    {
      "cell_type": "code",
      "execution_count": 1,
      "id": "3d305aaf",
      "metadata": {
        "vscode": {
          "languageId": "plaintext"
        },
        "colab": {
          "base_uri": "https://localhost:8080/"
        },
        "id": "3d305aaf",
        "outputId": "08717278-622f-49bc-8620-8aeb381a812c"
      },
      "outputs": [
        {
          "output_type": "stream",
          "name": "stdout",
          "text": [
            "\u001b[2K     \u001b[90m━━━━━━━━━━━━━━━━━━━━━━━━━━━━━━━━━━━━━━━━\u001b[0m \u001b[32m44.7/44.7 kB\u001b[0m \u001b[31m2.2 MB/s\u001b[0m eta \u001b[36m0:00:00\u001b[0m\n",
            "\u001b[2K   \u001b[90m━━━━━━━━━━━━━━━━━━━━━━━━━━━━━━━━━━━━━━━━\u001b[0m \u001b[32m130.6/130.6 kB\u001b[0m \u001b[31m8.6 MB/s\u001b[0m eta \u001b[36m0:00:00\u001b[0m\n",
            "\u001b[2K   \u001b[90m━━━━━━━━━━━━━━━━━━━━━━━━━━━━━━━━━━━━━━━━\u001b[0m \u001b[32m129.3/129.3 kB\u001b[0m \u001b[31m7.2 MB/s\u001b[0m eta \u001b[36m0:00:00\u001b[0m\n",
            "\u001b[2K   \u001b[90m━━━━━━━━━━━━━━━━━━━━━━━━━━━━━━━━━━━━━━━━\u001b[0m \u001b[32m155.9/155.9 kB\u001b[0m \u001b[31m10.9 MB/s\u001b[0m eta \u001b[36m0:00:00\u001b[0m\n",
            "\u001b[2K   \u001b[90m━━━━━━━━━━━━━━━━━━━━━━━━━━━━━━━━━━━━━━━━\u001b[0m \u001b[32m45.2/45.2 kB\u001b[0m \u001b[31m2.3 MB/s\u001b[0m eta \u001b[36m0:00:00\u001b[0m\n",
            "\u001b[?25h"
          ]
        }
      ],
      "source": [
        "!pip install -Uq openai-agents"
      ]
    },
    {
      "cell_type": "code",
      "source": [
        "!pip install -q \"openai-agents[viz]\""
      ],
      "metadata": {
        "id": "hRAZyX7LNHdj"
      },
      "id": "hRAZyX7LNHdj",
      "execution_count": 50,
      "outputs": []
    },
    {
      "cell_type": "code",
      "source": [
        "import nest_asyncio\n",
        "nest_asyncio.apply()"
      ],
      "metadata": {
        "id": "A6lufbBlDg6c"
      },
      "id": "A6lufbBlDg6c",
      "execution_count": 3,
      "outputs": []
    },
    {
      "cell_type": "code",
      "source": [
        "from google.colab import userdata\n",
        "api_key = userdata.get('GEMINI_API_KEY')"
      ],
      "metadata": {
        "id": "iTz2H8NaC26N"
      },
      "id": "iTz2H8NaC26N",
      "execution_count": 2,
      "outputs": []
    },
    {
      "cell_type": "code",
      "source": [
        "from agents import Agent , Runner ,AsyncOpenAI, set_default_openai_client , set_tracing_disabled , set_default_openai_api\n",
        "external_client = AsyncOpenAI(\n",
        "    api_key= api_key,\n",
        "    base_url=\"https://generativelanguage.googleapis.com/v1beta/openai/\",\n",
        ")\n",
        "set_default_openai_client(external_client)\n",
        "set_tracing_disabled(True)\n",
        "set_default_openai_api(\"chat_completions\")"
      ],
      "metadata": {
        "id": "7EPeCmQWDFnk"
      },
      "id": "7EPeCmQWDFnk",
      "execution_count": 5,
      "outputs": []
    },
    {
      "cell_type": "code",
      "source": [
        "# Here the system prompt .\n",
        "web_developer_prompt = \"\"\"You are an expert web developer. Your role is to provide helpful and accurate information about web development concepts, technologies, and best practices.\n",
        "When asked about a specific web development topic, provide a clear explanation.\n",
        "If the user asks for code examples, generate well-commented and functional code snippets in the relevant web technologies (e.g., HTML, CSS, JavaScript, Python/Flask, Node.js/Express, etc.).\n",
        "Focus on providing solutions and guidance related to front-end development (HTML, CSS, JavaScript frameworks like React, Angular, Vue) and back-end development (server-side languages, databases, APIs).\n",
        "Do not discuss topics outside of web development.\n",
        "Be encouraging and helpful to users learning web development.\n",
        "\"\"\"\n",
        "mobile_developer_prompt = \"\"\"You are an expert mobile application developer. Your role is to provide helpful and accurate information about mobile app development concepts, technologies, and best practices for both iOS and Android platforms.\n",
        "When asked about a specific mobile development topic, provide a clear explanation.\n",
        "If the user asks for code examples, generate well-commented and functional code snippets in relevant mobile technologies (e.g., Swift, Kotlin, Java, Objective-C, React Native, Flutter).\n",
        "Focus on providing solutions and guidance related to native mobile development (iOS and Android) and cross-platform frameworks.\n",
        "Do not discuss topics outside of mobile app development.\n",
        "Be encouraging and helpful to users learning mobile app development.\n",
        "\"\"\"\n",
        "agentic_ai_developer_prompt = \"\"\"You are an expert in Agentic AI development. Your role is to provide helpful and accurate information about building AI agents, multi-agent systems, and related concepts.\n",
        "When asked about a specific Agentic AI topic, provide a clear explanation.\n",
        "If the user asks for code examples, generate well-commented and functional code snippets using relevant libraries and frameworks for building AI agents (e.g., LangChain, LlamaIndex, or custom implementations).\n",
        "Focus on providing solutions and guidance related to agent design, communication, coordination, and the use of tools.\n",
        "Do not discuss topics outside of Agentic AI development.\n",
        "Be encouraging and helpful to users learning about Agentic AI.\n",
        "\"\"\"\n",
        "panacloud_prompt = \"\"\"You are a helpful assistant named Panacloud. Your role is to understand the user's query and determine which specialized agent (Web Developer, Mobile App Developer, or Agentic AI Developer) can best answer it.\n",
        "Based on the user's request, you will hand off the conversation to the most relevant expert agent.\n",
        "If the query is not related to web development, mobile app development, or agentic AI development, inform the user that you can only assist with those topics.\n",
        "Do not attempt to answer technical questions yourself; your primary function is to route the user to the correct expert.\n",
        "\"\"\"\n"
      ],
      "metadata": {
        "id": "FjBmmBjcQZqb"
      },
      "id": "FjBmmBjcQZqb",
      "execution_count": 33,
      "outputs": []
    },
    {
      "cell_type": "code",
      "source": [
        "web_developer : Agent = Agent(\n",
        "                        name = \"Web DEV\" ,\n",
        "                        instructions=web_developer_prompt,\n",
        "                        model=\"gemini-2.0-flash\",\n",
        "                        handoff_description=\"Web developer expert . \"\n",
        "\n",
        ")\n",
        "mobile_developer : Agent = Agent(\n",
        "                        name = \"Mobile DEV\" ,\n",
        "                        instructions=mobile_developer_prompt,\n",
        "                        model=\"gemini-2.0-flash\",\n",
        "                        handoff_description=\"mobile app developer expert .\"\n",
        "\n",
        ")\n",
        "\n",
        "# Here we make th agent that it is used as tools .\n",
        "\n",
        "devops_agent : Agent = Agent(\n",
        "                        name = \"DevOps Expert\" ,\n",
        "                        instructions= \"\"\"You are a helpful assistant. You only tell the user about DevOps. Generate a code example if necessary. Your role is to provide clear and concise information about DevOps concepts, tools (like Docker, Kubernetes, CI/CD pipelines), and best practices.\"\"\",\n",
        "                        model=\"gemini-2.0-flash\",\n",
        "                       )\n",
        "openai_agent : Agent = Agent(\n",
        "                        name = \"OpenAI Expert\" ,\n",
        "                        instructions=\"\"\"You are a helpful assistant. Your sole purpose is to provide information about OpenAI. When asked a question, provide a clear and concise answer based on your knowledge of OpenAI. Do not discuss topics unrelated to OpenAI.\"\"\",\n",
        "                        model=\"gemini-2.0-flash\",\n",
        "                       )\n",
        "devops_tool = devops_agent.as_tool(tool_name=\"DevOps_Tool\", tool_description=\"A tool that provides information about DevOps.\")\n",
        "openai_tool = openai_agent.as_tool(tool_name=\"OpenAI_Tool\", tool_description=\"A tool that provides information about OpenAI\")\n",
        "# Using these agents as tools\n",
        "agenticai_developer : Agent = Agent(\n",
        "                        name = \"Agentic DEV\" ,\n",
        "                        instructions=agentic_ai_developer_prompt,\n",
        "                        model=\"gemini-2.0-flash\",\n",
        "                        handoff_description=\"Agentic AI developer expert . \",\n",
        "                        tools=[devops_tool,openai_tool])\n",
        "# Triage Agent\n",
        "panacloud :Agent = Agent(\n",
        "                        name = \"Panacloud\" ,\n",
        "                        instructions=panacloud_prompt,\n",
        "                        model=\"gemini-2.0-flash\",\n",
        "                        handoffs=[web_developer,mobile_developer,agenticai_developer])"
      ],
      "metadata": {
        "id": "Ry3W7Hb3Hg8W"
      },
      "id": "Ry3W7Hb3Hg8W",
      "execution_count": 46,
      "outputs": []
    },
    {
      "cell_type": "code",
      "source": [
        "result = Runner.run_sync(panacloud,\"What is the html\")\n",
        "print(result.final_output)"
      ],
      "metadata": {
        "colab": {
          "base_uri": "https://localhost:8080/"
        },
        "collapsed": true,
        "id": "T3elJmUhJb-E",
        "outputId": "e4abfda2-953d-4444-ec65-3692f7b67362"
      },
      "id": "T3elJmUhJb-E",
      "execution_count": 49,
      "outputs": [
        {
          "output_type": "stream",
          "name": "stdout",
          "text": [
            "HTML stands for HyperText Markup Language. It is the standard markup language for creating web pages. HTML provides the structure of a web page and gives the browser information on how to display content.\n",
            "\n",
            "Here's a breakdown of what that means:\n",
            "\n",
            "*   **HyperText:** Refers to the hyperlinks that connect web pages to each other. These links allow users to navigate the web.\n",
            "*   **Markup Language:** A language that uses tags to define elements within a document. HTML uses tags to define headings, paragraphs, images, links, lists, and more.\n",
            "\n",
            "**Key Concepts:**\n",
            "\n",
            "*   **Elements:** HTML documents are made up of elements. An element usually consists of a start tag, some content, and an end tag. For example: `<p>This is a paragraph.</p>`\n",
            "*   **Tags:**  Keywords enclosed in angle brackets (`<` and `>`).  Start tags mark the beginning of an element (e.g., `<p>`), and end tags mark the end (e.g., `</p>`).  Some elements are *empty elements* and only have a start tag (e.g., `<br>` for a line break).\n",
            "*   **Attributes:** Provide additional information about an element. Attributes are specified in the start tag and usually consist of a name and a value (e.g., `<a href=\"https://www.example.com\">`).\n",
            "*   **Structure of an HTML Document:**\n",
            "\n",
            "    ```html\n",
            "    <!DOCTYPE html>\n",
            "    <html>\n",
            "    <head>\n",
            "        <title>Page Title</title>\n",
            "    </head>\n",
            "    <body>\n",
            "\n",
            "        <h1>This is a Heading</h1>\n",
            "        <p>This is a paragraph.</p>\n",
            "\n",
            "    </body>\n",
            "    </html>\n",
            "    ```\n",
            "\n",
            "    *   `<!DOCTYPE html>`: Declares the document type and version of HTML. It should be the very first thing in your HTML file.\n",
            "    *   `<html>`: The root element of an HTML page.  It wraps all other elements.\n",
            "    *   `<head>`: Contains meta-information about the HTML document, such as the title, character set, linked stylesheets, and scripts.  Content within `<head>` is not displayed directly on the page.\n",
            "    *   `<title>`: Specifies a title for the HTML page (which is shown in the browser's title bar or tab).\n",
            "    *   `<body>`: Contains the visible page content.  This is where all the elements you want to display on the page go (headings, paragraphs, images, links, etc.).\n",
            "*   **Common HTML Elements:**\n",
            "\n",
            "    *   `<h1>` to `<h6>`: Headings (h1 is the most important, h6 is the least).\n",
            "    *   `<p>`: Paragraph.\n",
            "    *   `<a>`: Link (hyperlink).  The `href` attribute specifies the URL the link goes to.\n",
            "    *   `<img>`: Image. The `src` attribute specifies the URL of the image.  The `alt` attribute provides alternative text for the image if it can't be displayed.\n",
            "    *   `<ul>`: Unordered list (bulleted list).\n",
            "    *   `<ol>`: Ordered list (numbered list).\n",
            "    *   `<li>`: List item (used within `<ul>` or `<ol>`).\n",
            "    *   `<div>`: Division (a block-level container for grouping other elements).\n",
            "    *   `<span>`:  A generic inline container for phrasing content.\n",
            "    *   `<form>`:  Creates an HTML form for user input.\n",
            "    *   `<input>`: Used within a `<form>` to create input fields (text boxes, radio buttons, checkboxes, etc.).\n",
            "    *   `<button>`: A clickable button.\n",
            "    *   `<table>`, `<tr>`, `<th>`, `<td>`:  Elements used for creating tables.\n",
            "*   **Example:**\n",
            "\n",
            "```html\n",
            "<!DOCTYPE html>\n",
            "<html>\n",
            "<head>\n",
            "  <title>My First Web Page</title>\n",
            "</head>\n",
            "<body>\n",
            "\n",
            "  <h1>Welcome to My Page</h1>\n",
            "  <p>This is a simple paragraph.</p>\n",
            "  <a href=\"https://www.example.com\">Visit Example.com</a>\n",
            "  <img src=\"myimage.jpg\" alt=\"A descriptive image\">\n",
            "\n",
            "  <h2>My Favorite Things</h2>\n",
            "  <ul>\n",
            "    <li>Cats</li>\n",
            "    <li>Dogs</li>\n",
            "    <li>Web Development</li>\n",
            "  </ul>\n",
            "\n",
            "</body>\n",
            "</html>\n",
            "```\n",
            "\n",
            "**How HTML Works:**\n",
            "\n",
            "1.  A web browser requests an HTML document from a web server.\n",
            "2.  The server sends the HTML document to the browser.\n",
            "3.  The browser parses the HTML, interpreting the tags and attributes.\n",
            "4.  The browser renders the content on the screen according to the HTML structure and any associated CSS styling.\n",
            "\n",
            "**Key Takeaways:**\n",
            "\n",
            "*   HTML provides the *structure* of a web page.\n",
            "*   HTML uses tags and attributes to define elements.\n",
            "*   Modern web development often uses HTML in conjunction with CSS (for styling) and JavaScript (for interactivity).\n",
            "*   It's essential to write well-formed and semantically correct HTML for accessibility and maintainability.  Use appropriate tags for their intended purpose (e.g., use `<h1>` for the main heading of a page).\n",
            "\n"
          ]
        }
      ]
    },
    {
      "cell_type": "code",
      "metadata": {
        "colab": {
          "base_uri": "https://localhost:8080/",
          "height": 417
        },
        "id": "6d1b05a5",
        "outputId": "9e8a75f4-1651-419f-cb61-c3dfd37c3b43"
      },
      "source": [
        "from agents.extensions.visualization import draw_graph\n",
        "draw_graph(panacloud)"
      ],
      "id": "6d1b05a5",
      "execution_count": 48,
      "outputs": [
        {
          "output_type": "execute_result",
          "data": {
            "image/svg+xml": "<?xml version=\"1.0\" encoding=\"UTF-8\" standalone=\"no\"?>\n<!DOCTYPE svg PUBLIC \"-//W3C//DTD SVG 1.1//EN\"\n \"http://www.w3.org/Graphics/SVG/1.1/DTD/svg11.dtd\">\n<!-- Generated by graphviz version 2.43.0 (0)\n -->\n<!-- Title: G Pages: 1 -->\n<svg width=\"535pt\" height=\"297pt\"\n viewBox=\"0.00 0.00 535.18 297.05\" xmlns=\"http://www.w3.org/2000/svg\" xmlns:xlink=\"http://www.w3.org/1999/xlink\">\n<g id=\"graph0\" class=\"graph\" transform=\"scale(1 1) rotate(0) translate(4 293.05)\">\n<title>G</title>\n<polygon fill=\"white\" stroke=\"transparent\" points=\"-4,4 -4,-293.05 531.18,-293.05 531.18,4 -4,4\"/>\n<!-- __start__ -->\n<g id=\"node1\" class=\"node\">\n<title>__start__</title>\n<ellipse fill=\"lightblue\" stroke=\"black\" cx=\"180\" cy=\"-272.79\" rx=\"51.74\" ry=\"16.03\"/>\n<text text-anchor=\"middle\" x=\"180\" y=\"-269.09\" font-family=\"Arial\" font-size=\"14.00\">__start__</text>\n</g>\n<!-- Panacloud -->\n<g id=\"node3\" class=\"node\">\n<title>Panacloud</title>\n<polygon fill=\"lightyellow\" stroke=\"black\" points=\"234,-220.53 126,-220.53 126,-162.53 234,-162.53 234,-220.53\"/>\n<text text-anchor=\"middle\" x=\"180\" y=\"-187.83\" font-family=\"Arial\" font-size=\"14.00\">Panacloud</text>\n</g>\n<!-- __start__&#45;&gt;Panacloud -->\n<g id=\"edge1\" class=\"edge\">\n<title>__start__&#45;&gt;Panacloud</title>\n<path fill=\"none\" stroke=\"black\" stroke-width=\"1.5\" d=\"M180,-256.51C180,-249.12 180,-239.89 180,-230.76\"/>\n<polygon fill=\"black\" stroke=\"black\" stroke-width=\"1.5\" points=\"183.5,-230.6 180,-220.6 176.5,-230.6 183.5,-230.6\"/>\n</g>\n<!-- __end__ -->\n<g id=\"node2\" class=\"node\">\n<title>__end__</title>\n<ellipse fill=\"lightblue\" stroke=\"black\" cx=\"170\" cy=\"-16.26\" rx=\"48.58\" ry=\"16.03\"/>\n<text text-anchor=\"middle\" x=\"170\" y=\"-12.56\" font-family=\"Arial\" font-size=\"14.00\">__end__</text>\n</g>\n<!-- Web DEV -->\n<g id=\"node4\" class=\"node\">\n<title>Web DEV</title>\n<path fill=\"none\" stroke=\"black\" d=\"M96,-126.53C96,-126.53 12,-126.53 12,-126.53 6,-126.53 0,-120.53 0,-114.53 0,-114.53 0,-80.53 0,-80.53 0,-74.53 6,-68.53 12,-68.53 12,-68.53 96,-68.53 96,-68.53 102,-68.53 108,-74.53 108,-80.53 108,-80.53 108,-114.53 108,-114.53 108,-120.53 102,-126.53 96,-126.53\"/>\n<text text-anchor=\"middle\" x=\"54\" y=\"-93.83\" font-family=\"Arial\" font-size=\"14.00\">Web DEV</text>\n</g>\n<!-- Panacloud&#45;&gt;Web DEV -->\n<g id=\"edge2\" class=\"edge\">\n<title>Panacloud&#45;&gt;Web DEV</title>\n<path fill=\"none\" stroke=\"black\" stroke-width=\"1.5\" d=\"M141.51,-162.42C128.69,-153.06 114.25,-142.52 100.87,-132.75\"/>\n<polygon fill=\"black\" stroke=\"black\" stroke-width=\"1.5\" points=\"102.83,-129.85 92.69,-126.77 98.7,-135.5 102.83,-129.85\"/>\n</g>\n<!-- Mobile DEV -->\n<g id=\"node5\" class=\"node\">\n<title>Mobile DEV</title>\n<path fill=\"none\" stroke=\"black\" d=\"M222,-126.53C222,-126.53 138,-126.53 138,-126.53 132,-126.53 126,-120.53 126,-114.53 126,-114.53 126,-80.53 126,-80.53 126,-74.53 132,-68.53 138,-68.53 138,-68.53 222,-68.53 222,-68.53 228,-68.53 234,-74.53 234,-80.53 234,-80.53 234,-114.53 234,-114.53 234,-120.53 228,-126.53 222,-126.53\"/>\n<text text-anchor=\"middle\" x=\"180\" y=\"-93.83\" font-family=\"Arial\" font-size=\"14.00\">Mobile DEV</text>\n</g>\n<!-- Panacloud&#45;&gt;Mobile DEV -->\n<g id=\"edge4\" class=\"edge\">\n<title>Panacloud&#45;&gt;Mobile DEV</title>\n<path fill=\"none\" stroke=\"black\" stroke-width=\"1.5\" d=\"M180,-162.42C180,-154.38 180,-145.48 180,-136.94\"/>\n<polygon fill=\"black\" stroke=\"black\" stroke-width=\"1.5\" points=\"183.5,-136.77 180,-126.77 176.5,-136.77 183.5,-136.77\"/>\n</g>\n<!-- Agentic DEV -->\n<g id=\"node6\" class=\"node\">\n<title>Agentic DEV</title>\n<path fill=\"none\" stroke=\"black\" d=\"M348,-126.53C348,-126.53 264,-126.53 264,-126.53 258,-126.53 252,-120.53 252,-114.53 252,-114.53 252,-80.53 252,-80.53 252,-74.53 258,-68.53 264,-68.53 264,-68.53 348,-68.53 348,-68.53 354,-68.53 360,-74.53 360,-80.53 360,-80.53 360,-114.53 360,-114.53 360,-120.53 354,-126.53 348,-126.53\"/>\n<text text-anchor=\"middle\" x=\"306\" y=\"-93.83\" font-family=\"Arial\" font-size=\"14.00\">Agentic DEV</text>\n</g>\n<!-- Panacloud&#45;&gt;Agentic DEV -->\n<g id=\"edge6\" class=\"edge\">\n<title>Panacloud&#45;&gt;Agentic DEV</title>\n<path fill=\"none\" stroke=\"black\" stroke-width=\"1.5\" d=\"M218.49,-162.42C231.31,-153.06 245.75,-142.52 259.13,-132.75\"/>\n<polygon fill=\"black\" stroke=\"black\" stroke-width=\"1.5\" points=\"261.3,-135.5 267.31,-126.77 257.17,-129.85 261.3,-135.5\"/>\n</g>\n<!-- Web DEV&#45;&gt;__end__ -->\n<g id=\"edge3\" class=\"edge\">\n<title>Web DEV&#45;&gt;__end__</title>\n<path fill=\"none\" stroke=\"black\" stroke-width=\"1.5\" d=\"M95.22,-68.36C110.39,-57.99 127.24,-46.48 141.1,-37.01\"/>\n<polygon fill=\"black\" stroke=\"black\" stroke-width=\"1.5\" points=\"143.44,-39.65 149.72,-31.12 139.49,-33.87 143.44,-39.65\"/>\n</g>\n<!-- Mobile DEV&#45;&gt;__end__ -->\n<g id=\"edge5\" class=\"edge\">\n<title>Mobile DEV&#45;&gt;__end__</title>\n<path fill=\"none\" stroke=\"black\" stroke-width=\"1.5\" d=\"M176.45,-68.36C175.4,-60.07 174.26,-51.04 173.24,-42.92\"/>\n<polygon fill=\"black\" stroke=\"black\" stroke-width=\"1.5\" points=\"176.7,-42.37 171.97,-32.89 169.75,-43.25 176.7,-42.37\"/>\n</g>\n<!-- Agentic DEV&#45;&gt;__end__ -->\n<g id=\"edge11\" class=\"edge\">\n<title>Agentic DEV&#45;&gt;__end__</title>\n<path fill=\"none\" stroke=\"black\" stroke-width=\"1.5\" d=\"M257.67,-68.36C239.12,-57.55 218.43,-45.49 201.81,-35.8\"/>\n<polygon fill=\"black\" stroke=\"black\" stroke-width=\"1.5\" points=\"203.43,-32.7 193.03,-30.69 199.91,-38.75 203.43,-32.7\"/>\n</g>\n<!-- DevOps_Tool -->\n<g id=\"node7\" class=\"node\">\n<title>DevOps_Tool</title>\n<ellipse fill=\"lightgreen\" stroke=\"black\" cx=\"306\" cy=\"-16.26\" rx=\"69.09\" ry=\"16.03\"/>\n<text text-anchor=\"middle\" x=\"306\" y=\"-12.56\" font-family=\"Arial\" font-size=\"14.00\">DevOps_Tool</text>\n</g>\n<!-- Agentic DEV&#45;&gt;DevOps_Tool -->\n<g id=\"edge7\" class=\"edge\">\n<title>Agentic DEV&#45;&gt;DevOps_Tool</title>\n<path fill=\"none\" stroke=\"black\" stroke-width=\"1.5\" stroke-dasharray=\"1,5\" d=\"M299.51,-68.36C299.13,-60.07 299.17,-51.04 299.64,-42.92\"/>\n<polygon fill=\"black\" stroke=\"black\" stroke-width=\"1.5\" points=\"303.13,-43.15 300.5,-32.89 296.16,-42.55 303.13,-43.15\"/>\n</g>\n<!-- OpenAI_Tool -->\n<g id=\"node8\" class=\"node\">\n<title>OpenAI_Tool</title>\n<ellipse fill=\"lightgreen\" stroke=\"black\" cx=\"460\" cy=\"-16.26\" rx=\"67.35\" ry=\"16.03\"/>\n<text text-anchor=\"middle\" x=\"460\" y=\"-12.56\" font-family=\"Arial\" font-size=\"14.00\">OpenAI_Tool</text>\n</g>\n<!-- Agentic DEV&#45;&gt;OpenAI_Tool -->\n<g id=\"edge9\" class=\"edge\">\n<title>Agentic DEV&#45;&gt;OpenAI_Tool</title>\n<path fill=\"none\" stroke=\"black\" stroke-width=\"1.5\" stroke-dasharray=\"1,5\" d=\"M354.24,-68.36C375.22,-57.3 399.5,-44.93 419.53,-35.13\"/>\n<polygon fill=\"black\" stroke=\"black\" stroke-width=\"1.5\" points=\"421.23,-38.2 428.71,-30.69 418.18,-31.9 421.23,-38.2\"/>\n</g>\n<!-- DevOps_Tool&#45;&gt;Agentic DEV -->\n<g id=\"edge8\" class=\"edge\">\n<title>DevOps_Tool&#45;&gt;Agentic DEV</title>\n<path fill=\"none\" stroke=\"black\" stroke-width=\"1.5\" stroke-dasharray=\"1,5\" d=\"M311.5,-32.89C312.38,-40.23 312.8,-49.33 312.75,-58.34\"/>\n<polygon fill=\"black\" stroke=\"black\" stroke-width=\"1.5\" points=\"309.25,-58.27 312.49,-68.36 316.24,-58.45 309.25,-58.27\"/>\n</g>\n<!-- OpenAI_Tool&#45;&gt;Agentic DEV -->\n<g id=\"edge10\" class=\"edge\">\n<title>OpenAI_Tool&#45;&gt;Agentic DEV</title>\n<path fill=\"none\" stroke=\"black\" stroke-width=\"1.5\" stroke-dasharray=\"1,5\" d=\"M437.25,-31.73C419.24,-41.66 393.36,-55.19 369.3,-67.31\"/>\n<polygon fill=\"black\" stroke=\"black\" stroke-width=\"1.5\" points=\"367.55,-64.27 360.18,-71.88 370.69,-70.53 367.55,-64.27\"/>\n</g>\n</g>\n</svg>\n",
            "text/plain": [
              "<graphviz.sources.Source at 0x7d492cc00a90>"
            ]
          },
          "metadata": {},
          "execution_count": 48
        }
      ]
    }
  ],
  "metadata": {
    "language_info": {
      "name": "python"
    },
    "colab": {
      "provenance": [],
      "include_colab_link": true
    },
    "kernelspec": {
      "name": "python3",
      "display_name": "Python 3"
    }
  },
  "nbformat": 4,
  "nbformat_minor": 5
}