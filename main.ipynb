{
  "cells": [
    {
      "cell_type": "markdown",
      "metadata": {
        "id": "view-in-github",
        "colab_type": "text"
      },
      "source": [
        "<a href=\"https://colab.research.google.com/github/AbdullahMalik17/Agentic_AI/blob/main/main.ipynb\" target=\"_parent\"><img src=\"https://colab.research.google.com/assets/colab-badge.svg\" alt=\"Open In Colab\"/></a>"
      ]
    },
    {
      "cell_type": "markdown",
      "source": [
        "# Callables\n",
        "Callables are the functions , objects which can be called ."
      ],
      "metadata": {
        "id": "zMFGc2HGEU2m"
      },
      "id": "zMFGc2HGEU2m"
    },
    {
      "cell_type": "code",
      "source": [
        "from typing import Callable\n",
        "my_func = Callable[[int,int],str] # First braket shows input while other term shows output .\n",
        "\n",
        "print(my_func)"
      ],
      "metadata": {
        "colab": {
          "base_uri": "https://localhost:8080/"
        },
        "id": "afD00UMsEeMb",
        "outputId": "286d7e6d-f3ca-4a1e-fdc9-9baa1ef24843"
      },
      "id": "afD00UMsEeMb",
      "execution_count": null,
      "outputs": [
        {
          "output_type": "stream",
          "name": "stdout",
          "text": [
            "typing.Callable[[int, str], int]\n"
          ]
        }
      ]
    },
    {
      "cell_type": "code",
      "source": [
        "from dataclasses import dataclass\n",
        "from typing import Callable\n",
        "@dataclass\n",
        "class Calculator:\n",
        "  operation : Callable[[int,int],str]\n",
        "  def calculate(self,a:int,b:int):\n",
        "    return self.operation(a,b)\n",
        "# making a function to give in Calculator Class .\n",
        "def addition(x:int,y:int)->str:\n",
        "  return str(x+y)\n",
        "\n",
        "calculator_addition = Calculator(operation=addition)\n",
        "print(calculator_addition.calculate(58,89))"
      ],
      "metadata": {
        "colab": {
          "base_uri": "https://localhost:8080/"
        },
        "id": "HGcCO9xqLu6a",
        "outputId": "6729ed1b-959a-4b6f-c230-9ecadc893464"
      },
      "id": "HGcCO9xqLu6a",
      "execution_count": null,
      "outputs": [
        {
          "output_type": "stream",
          "name": "stdout",
          "text": [
            "147\n"
          ]
        }
      ]
    },
    {
      "cell_type": "code",
      "source": [
        "from dataclasses import dataclass\n",
        "from typing import Callable\n",
        "@dataclass\n",
        "class Calculator:\n",
        "  operation : Callable[[int,int],str]\n",
        "  def __call__ (self,a:int,b:int):\n",
        "    return self.operation(a,b)\n",
        "# making a function to give in Calculator Class .\n",
        "def addition(x:int,y:int)->str:\n",
        "  return str(x+y)\n",
        "\n",
        "calculator_addition = Calculator(operation=addition)\n",
        "print(calculator_addition(58,89))"
      ],
      "metadata": {
        "colab": {
          "base_uri": "https://localhost:8080/"
        },
        "id": "tJDRrsQ_P6HT",
        "outputId": "9b741be4-208d-4e3f-d395-53fb5781dffd"
      },
      "id": "tJDRrsQ_P6HT",
      "execution_count": null,
      "outputs": [
        {
          "output_type": "stream",
          "name": "stdout",
          "text": [
            "147\n"
          ]
        }
      ]
    },
    {
      "cell_type": "markdown",
      "source": [
        "# Generics\n",
        "Generics mean writing code that works with different data types, without repeating the same logic."
      ],
      "metadata": {
        "id": "6oEPykaFRWC5"
      },
      "id": "6oEPykaFRWC5"
    },
    {
      "cell_type": "code",
      "source": [
        "# We import TypVar\n",
        "from typing import TypeVar, List\n",
        "# => We use T because It is used globally like used by OpenAI .\n",
        "\n",
        "T = TypeVar('T')  # T is a generic type\n",
        "\n",
        "def get_first(items: List[T]) -> T:\n",
        "    return items[0]\n",
        "num = [1,2,3]\n",
        "string1 = ['a','b','c']\n",
        "print(get_first(num))\n",
        "print(get_first(string1))\n",
        "\n",
        "#Infer\n",
        "# 1. T is like fill in the blank .\n",
        "# 2. T gives the types which the data is given ."
      ],
      "metadata": {
        "colab": {
          "base_uri": "https://localhost:8080/"
        },
        "id": "tXclO_e5UEYV",
        "outputId": "f96f4db2-a1fc-456a-8d5f-1a84fc54dc0f"
      },
      "id": "tXclO_e5UEYV",
      "execution_count": 1,
      "outputs": [
        {
          "output_type": "stream",
          "name": "stdout",
          "text": [
            "1\n",
            "a\n"
          ]
        }
      ]
    },
    {
      "cell_type": "markdown",
      "source": [
        "# Working with Obect\n"
      ],
      "metadata": {
        "id": "oifFUGVO0F8e"
      },
      "id": "oifFUGVO0F8e"
    },
    {
      "cell_type": "code",
      "source": [
        "from typing import TypeVar\n",
        "K = TypeVar(\"K\") # type for key\n",
        "L = TypeVar(\"L\") # type for value\n",
        "\"\"\"\n",
        "We make the function that takes arguments in form of dictionary and key . and return the key value .\n",
        "\"\"\"\n",
        "def getdata(container1:dict[K,L],key : K) ->L:\n",
        "  return container1[key]\n"
      ],
      "metadata": {
        "id": "U7a6GuylVntv"
      },
      "id": "U7a6GuylVntv",
      "execution_count": 11,
      "outputs": []
    },
    {
      "cell_type": "code",
      "source": [
        "object1 :dict = {\"a\":1 , \"b\":2}\n",
        "getdata(object1,key=\"a\")"
      ],
      "metadata": {
        "colab": {
          "base_uri": "https://localhost:8080/"
        },
        "id": "7umq0Z-d1nXV",
        "outputId": "1d933816-84c9-45e7-8529-1d574d8e4f63"
      },
      "id": "7umq0Z-d1nXV",
      "execution_count": 12,
      "outputs": [
        {
          "output_type": "execute_result",
          "data": {
            "text/plain": [
              "1"
            ]
          },
          "metadata": {},
          "execution_count": 12
        }
      ]
    },
    {
      "cell_type": "markdown",
      "source": [
        "# Generic Working with class\n"
      ],
      "metadata": {
        "id": "3UaMiIEt6i5t"
      },
      "id": "3UaMiIEt6i5t"
    },
    {
      "cell_type": "code",
      "source": [
        "from typing import ClassVar , Generic\n",
        "from dataclasses import dataclass , field\n",
        "@dataclass\n",
        "class Stack(Generic[T]):\n",
        "  items : list[T] = field(default_factory=list)\n",
        "  limit : ClassVar[int] = 10\n",
        "\n",
        "  def push(self , data:T):\n",
        "    self.items.append(data)\n",
        "  def pop(self):\n",
        "    self.items.pop()\n",
        "\n",
        "int_items = Stack()\n",
        "int_items.push(1)\n",
        "int_items.push(2)\n",
        "int_items.push(3)\n",
        "int_items.push(4)\n",
        "int_items.pop()\n",
        "print(int_items)\n"
      ],
      "metadata": {
        "colab": {
          "base_uri": "https://localhost:8080/"
        },
        "id": "V0jBV1iP6gCg",
        "outputId": "f2e214d2-1f4b-4478-96e3-a22e6a0516f6"
      },
      "id": "V0jBV1iP6gCg",
      "execution_count": 14,
      "outputs": [
        {
          "output_type": "stream",
          "name": "stdout",
          "text": [
            "Stack(items=[1, 2, 3])\n"
          ]
        }
      ]
    }
  ],
  "metadata": {
    "language_info": {
      "name": "python"
    },
    "colab": {
      "provenance": [],
      "include_colab_link": true
    },
    "kernelspec": {
      "name": "python3",
      "display_name": "Python 3"
    }
  },
  "nbformat": 4,
  "nbformat_minor": 5
}