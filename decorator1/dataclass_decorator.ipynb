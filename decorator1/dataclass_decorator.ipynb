{
  "cells": [
    {
      "cell_type": "markdown",
      "id": "da2c3b4e",
      "metadata": {
        "colab_type": "text",
        "id": "view-in-github"
      },
      "source": [
        "<a href=\"https://colab.research.google.com/github/AbdullahMalik17/Agentic_AI/blob/main/dataclass_decorator.ipynb\" target=\"_parent\"><img src=\"https://colab.research.google.com/assets/colab-badge.svg\" alt=\"Open In Colab\"/></a>"
      ]
    },
    {
      "cell_type": "code",
      "execution_count": null,
      "id": "128e9bfa",
      "metadata": {
        "id": "128e9bfa",
        "vscode": {
          "languageId": "plaintext"
        }
      },
      "outputs": [],
      "source": [
        "from dataclasses import dataclass"
      ]
    },
    {
      "cell_type": "code",
      "execution_count": null,
      "id": "AcJf-Fi5IWbY",
      "metadata": {
        "colab": {
          "base_uri": "https://localhost:8080/",
          "height": 52
        },
        "id": "AcJf-Fi5IWbY",
        "outputId": "d68bea3d-98d6-44a5-edbf-be8ac4ed7258"
      },
      "outputs": [
        {
          "name": "stdout",
          "output_type": "stream",
          "text": [
            "14.847791576600374\n"
          ]
        },
        {
          "data": {
            "application/vnd.google.colaboratory.intrinsic+json": {
              "type": "string"
            },
            "text/plain": [
              "'Urdu'"
            ]
          },
          "execution_count": 12,
          "metadata": {},
          "output_type": "execute_result"
        }
      ],
      "source": [
        "from os import name\n",
        "from typing import ClassVar\n",
        "@dataclass\n",
        "class Pakistani:\n",
        "  name : str\n",
        "  age : int\n",
        "  weight_kg : float\n",
        "  language : ClassVar[str] = \"Urdu\"\n",
        "  height_m : float\n",
        "\n",
        "  def calculate_bmi(self):\n",
        "    \"\"\"\n",
        "    Calculates Body Mass Index (BMI) using weight in kilograms and height in meters.\n",
        "\n",
        "    Args:\n",
        "    weight_kg: Weight in kilograms.\n",
        "    height_m: Height in meters.\n",
        "\n",
        "    Returns:\n",
        "    The calculated BMI.\n",
        "    \"\"\"\n",
        "    if self.height_m <= 0:\n",
        "       return \"Height must be greater than zero.\"\n",
        "    bmi = self.weight_kg / (self.height_m ** 2)\n",
        "    return bmi\n",
        "  @staticmethod\n",
        "  def language_national():\n",
        "    return Pakistani.language\n",
        "\n",
        "abdullah = Pakistani(\"Abdullah\",17,48,1.798)\n",
        "print(abdullah.calculate_bmi())\n",
        "Pakistani.language_national()"
      ]
    }
  ],
  "metadata": {
    "colab": {
      "include_colab_link": true,
      "provenance": []
    },
    "kernelspec": {
      "display_name": "Python 3",
      "name": "python3"
    },
    "language_info": {
      "name": "python"
    }
  },
  "nbformat": 4,
  "nbformat_minor": 5
}
