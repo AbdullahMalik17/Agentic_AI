{
  "cells": [
    {
      "cell_type": "markdown",
      "metadata": {
        "id": "view-in-github",
        "colab_type": "text"
      },
      "source": [
        "<a href=\"https://colab.research.google.com/github/AbdullahMalik17/Agentic_AI/blob/main/decorator1/dataclass_decorator.ipynb\" target=\"_parent\"><img src=\"https://colab.research.google.com/assets/colab-badge.svg\" alt=\"Open In Colab\"/></a>"
      ]
    },
    {
      "cell_type": "code",
      "execution_count": 1,
      "id": "128e9bfa",
      "metadata": {
        "vscode": {
          "languageId": "plaintext"
        },
        "id": "128e9bfa"
      },
      "outputs": [],
      "source": [
        "from dataclasses import dataclass"
      ]
    },
    {
      "cell_type": "code",
      "source": [
        "from os import name\n",
        "from typing import ClassVar\n",
        "@dataclass\n",
        "class Pakistani:\n",
        "  name : str\n",
        "  age : int\n",
        "  weight_kg : float\n",
        "  language : ClassVar[str] = \"Urdu\"\n",
        "  height_m : float\n",
        "\n",
        "  def calculate_bmi(self):\n",
        "    \"\"\"\n",
        "    Calculates Body Mass Index (BMI) using weight in kilograms and height in meters.\n",
        "\n",
        "    Args:\n",
        "    weight_kg: Weight in kilograms.\n",
        "    height_m: Height in meters.\n",
        "\n",
        "    Returns:\n",
        "    The calculated BMI.\n",
        "    \"\"\"\n",
        "    if self.height_m <= 0:\n",
        "       return \"Height must be greater than zero.\"\n",
        "    bmi = self.weight_kg / (self.height_m ** 2)\n",
        "    return bmi\n",
        "  @staticmethod\n",
        "  def language_national():\n",
        "    return Pakistani.language\n",
        "\n",
        "abdullah = Pakistani(\"Abdullah\",17,48,1.798)\n",
        "print(abdullah.calculate_bmi())\n",
        "Pakistani.language_national()"
      ],
      "metadata": {
        "colab": {
          "base_uri": "https://localhost:8080/",
          "height": 52
        },
        "id": "AcJf-Fi5IWbY",
        "outputId": "579ed202-a9e2-4429-a541-aa630bee26fe"
      },
      "id": "AcJf-Fi5IWbY",
      "execution_count": 2,
      "outputs": [
        {
          "output_type": "stream",
          "name": "stdout",
          "text": [
            "14.847791576600374\n"
          ]
        },
        {
          "output_type": "execute_result",
          "data": {
            "text/plain": [
              "'Urdu'"
            ],
            "application/vnd.google.colaboratory.intrinsic+json": {
              "type": "string"
            }
          },
          "metadata": {},
          "execution_count": 2
        }
      ]
    },
    {
      "cell_type": "code",
      "source": [
        "# We can also make the class Callable\n",
        "@dataclass\n",
        "class User:\n",
        "  name : str\n",
        "  age :int\n",
        "\n",
        "  def __call__(self):  # This is called the magical function .\n",
        "    return \"Hi\"\n",
        "user = User(\"Abdullah\",17)\n"
      ],
      "metadata": {
        "id": "Nl4DynQ55b8m"
      },
      "id": "Nl4DynQ55b8m",
      "execution_count": 3,
      "outputs": []
    },
    {
      "cell_type": "code",
      "source": [
        "user()"
      ],
      "metadata": {
        "colab": {
          "base_uri": "https://localhost:8080/",
          "height": 35
        },
        "id": "pEVZo-YbAkcc",
        "outputId": "f27195ea-02e7-4481-faa9-025ed02c74d5"
      },
      "id": "pEVZo-YbAkcc",
      "execution_count": 4,
      "outputs": [
        {
          "output_type": "execute_result",
          "data": {
            "text/plain": [
              "'Hi'"
            ],
            "application/vnd.google.colaboratory.intrinsic+json": {
              "type": "string"
            }
          },
          "metadata": {},
          "execution_count": 4
        }
      ]
    },
    {
      "cell_type": "code",
      "source": [
        "user"
      ],
      "metadata": {
        "colab": {
          "base_uri": "https://localhost:8080/"
        },
        "id": "1yNa1wXiAleV",
        "outputId": "d3906ce2-dd27-4c9c-f5a5-474572b72b8d"
      },
      "id": "1yNa1wXiAleV",
      "execution_count": 5,
      "outputs": [
        {
          "output_type": "execute_result",
          "data": {
            "text/plain": [
              "User(name='Abdullah', age=17)"
            ]
          },
          "metadata": {},
          "execution_count": 5
        }
      ]
    },
    {
      "cell_type": "code",
      "source": [
        "# We can also make the class Callable\n",
        "@dataclass\n",
        "class User:\n",
        "  name : str\n",
        "  age :int\n",
        "\n",
        "  def __call__(self):  # This is called the magical function .\n",
        "    return \"Hi\"\n",
        "  @classmethod\n",
        "  def print_name(cls,user_interface):\n",
        "    print(user_interface.name)\n",
        "\n",
        "user = User(\"Abdullah\",17)\n",
        "user2 = User(\"Haleema\",34)\n",
        "User.print_name(user2)\n"
      ],
      "metadata": {
        "colab": {
          "base_uri": "https://localhost:8080/"
        },
        "id": "0L5ju6WgRi0I",
        "outputId": "ac99cc29-a3ce-4300-ac64-c4a701af5ad7"
      },
      "id": "0L5ju6WgRi0I",
      "execution_count": 18,
      "outputs": [
        {
          "output_type": "stream",
          "name": "stdout",
          "text": [
            "Haleema\n"
          ]
        }
      ]
    }
  ],
  "metadata": {
    "language_info": {
      "name": "python"
    },
    "colab": {
      "provenance": [],
      "include_colab_link": true
    },
    "kernelspec": {
      "name": "python3",
      "display_name": "Python 3"
    }
  },
  "nbformat": 4,
  "nbformat_minor": 5
}