{
  "cells": [
    {
      "cell_type": "markdown",
      "metadata": {
        "colab_type": "text",
        "id": "view-in-github"
      },
      "source": [
        "<a href=\"https://colab.research.google.com/github/AbdullahMalik17/Agentic_AI/blob/main/dataclass_decorator.ipynb\" target=\"_parent\"><img src=\"https://colab.research.google.com/assets/colab-badge.svg\" alt=\"Open In Colab\"/></a>"
      ]
    },
    {
      "cell_type": "code",
      "execution_count": null,
      "id": "128e9bfa",
      "metadata": {
        "id": "128e9bfa",
        "vscode": {
          "languageId": "plaintext"
        }
      },
      "outputs": [],
      "source": [
        "from dataclasses import dataclass"
      ]
    },
    {
      "cell_type": "code",
      "execution_count": null,
      "id": "AcJf-Fi5IWbY",
      "metadata": {
        "colab": {
          "base_uri": "https://localhost:8080/",
          "height": 52
        },
        "id": "AcJf-Fi5IWbY",
        "outputId": "4265153c-2f03-4484-8fa7-dd1801836122"
      },
      "outputs": [
        {
          "name": "stdout",
          "output_type": "stream",
          "text": [
            "14.847791576600374\n"
          ]
        },
        {
          "data": {
            "application/vnd.google.colaboratory.intrinsic+json": {
              "type": "string"
            },
            "text/plain": [
              "'Urdu'"
            ]
          },
          "execution_count": 13,
          "metadata": {},
          "output_type": "execute_result"
        }
      ],
      "source": [
        "from os import name\n",
        "from typing import ClassVar\n",
        "@dataclass\n",
        "class Pakistani:\n",
        "  name : str\n",
        "  age : int\n",
        "  weight_kg : float\n",
        "  language : ClassVar[str] = \"Urdu\"\n",
        "  height_m : float\n",
        "\n",
        "  def calculate_bmi(self):\n",
        "    \"\"\"\n",
        "    Calculates Body Mass Index (BMI) using weight in kilograms and height in meters.\n",
        "\n",
        "    Args:\n",
        "    weight_kg: Weight in kilograms.\n",
        "    height_m: Height in meters.\n",
        "\n",
        "    Returns:\n",
        "    The calculated BMI.\n",
        "    \"\"\"\n",
        "    if self.height_m <= 0:\n",
        "       return \"Height must be greater than zero.\"\n",
        "    bmi = self.weight_kg / (self.height_m ** 2)\n",
        "    return bmi\n",
        "  @staticmethod\n",
        "  def language_national():\n",
        "    return Pakistani.language\n",
        "\n",
        "abdullah = Pakistani(\"Abdullah\",17,48,1.798)\n",
        "print(abdullah.calculate_bmi())\n",
        "Pakistani.language_national()"
      ]
    },
    {
      "cell_type": "code",
      "execution_count": null,
      "id": "Nl4DynQ55b8m",
      "metadata": {
        "id": "Nl4DynQ55b8m"
      },
      "outputs": [],
      "source": [
        "# We can also make the class Callable\n",
        "@dataclass\n",
        "class User:\n",
        "  name : str\n",
        "  age :int\n",
        "\n",
        "  def __call__(self):  # This is called the magical function .\n",
        "    return \"Hi\"\n",
        "user = User(\"Abdullah\",17)\n",
        "\n"
      ]
    },
    {
      "cell_type": "code",
      "execution_count": null,
      "id": "pEVZo-YbAkcc",
      "metadata": {
        "colab": {
          "base_uri": "https://localhost:8080/",
          "height": 35
        },
        "id": "pEVZo-YbAkcc",
        "outputId": "544a797e-c4c3-485b-fab1-73ac02857f06"
      },
      "outputs": [
        {
          "data": {
            "application/vnd.google.colaboratory.intrinsic+json": {
              "type": "string"
            },
            "text/plain": [
              "'Hi'"
            ]
          },
          "execution_count": 25,
          "metadata": {},
          "output_type": "execute_result"
        }
      ],
      "source": [
        "user()"
      ]
    },
    {
      "cell_type": "code",
      "execution_count": null,
      "id": "1yNa1wXiAleV",
      "metadata": {
        "colab": {
          "base_uri": "https://localhost:8080/"
        },
        "id": "1yNa1wXiAleV",
        "outputId": "35597820-9198-410a-9d1c-f150b18e9faf"
      },
      "outputs": [
        {
          "data": {
            "text/plain": [
              "User(name='Abdullah', age=17)"
            ]
          },
          "execution_count": 26,
          "metadata": {},
          "output_type": "execute_result"
        }
      ],
      "source": [
        "user"
      ]
    },
    {
      "cell_type": "code",
      "execution_count": null,
      "id": "26a72375",
      "metadata": {},
      "outputs": [],
      "source": [
        "# We can also make the class Callable\n",
        "@dataclass\n",
        "class User:\n",
        "  name : str\n",
        "  age :int\n",
        "\n",
        "  def __call__(self):  # This is called the magical function .\n",
        "    return \"Hi\"\n",
        "user = User(\"Abdullah\",17)\n"
      ]
    }
  ],
  "metadata": {
    "colab": {
      "include_colab_link": true,
      "provenance": []
    },
    "kernelspec": {
      "display_name": "Python 3",
      "name": "python3"
    },
    "language_info": {
      "name": "python"
    }
  },
  "nbformat": 4,
  "nbformat_minor": 5
}
