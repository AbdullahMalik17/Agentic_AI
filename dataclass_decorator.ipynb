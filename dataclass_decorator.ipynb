{
  "cells": [
    {
      "cell_type": "markdown",
      "metadata": {
        "id": "view-in-github",
        "colab_type": "text"
      },
      "source": [
        "<a href=\"https://colab.research.google.com/github/AbdullahMalik17/Agentic_AI/blob/main/dataclass_decorator.ipynb\" target=\"_parent\"><img src=\"https://colab.research.google.com/assets/colab-badge.svg\" alt=\"Open In Colab\"/></a>"
      ]
    },
    {
      "cell_type": "code",
      "execution_count": null,
      "id": "128e9bfa",
      "metadata": {
        "vscode": {
          "languageId": "plaintext"
        },
        "id": "128e9bfa"
      },
      "outputs": [],
      "source": [
        "from dataclasses import dataclass"
      ]
    },
    {
      "cell_type": "code",
      "source": [
        "from os import name\n",
        "from typing import ClassVar\n",
        "@dataclass\n",
        "class Pakistani:\n",
        "  name : str\n",
        "  age : int\n",
        "  weight_kg : float\n",
        "  language : ClassVar[str] = \"Urdu\"\n",
        "  height_m : float\n",
        "\n",
        "  def calculate_bmi(self):\n",
        "    \"\"\"\n",
        "    Calculates Body Mass Index (BMI) using weight in kilograms and height in meters.\n",
        "\n",
        "    Args:\n",
        "    weight_kg: Weight in kilograms.\n",
        "    height_m: Height in meters.\n",
        "\n",
        "    Returns:\n",
        "    The calculated BMI.\n",
        "    \"\"\"\n",
        "    if self.height_m <= 0:\n",
        "       return \"Height must be greater than zero.\"\n",
        "    bmi = self.weight_kg / (self.height_m ** 2)\n",
        "    return bmi\n",
        "  @staticmethod\n",
        "  def language_national():\n",
        "    return Pakistani.language\n",
        "\n",
        "abdullah = Pakistani(\"Abdullah\",17,48,1.798)\n",
        "print(abdullah.calculate_bmi())\n",
        "Pakistani.language_national()"
      ],
      "metadata": {
        "colab": {
          "base_uri": "https://localhost:8080/",
          "height": 52
        },
        "id": "AcJf-Fi5IWbY",
        "outputId": "d68bea3d-98d6-44a5-edbf-be8ac4ed7258"
      },
      "id": "AcJf-Fi5IWbY",
      "execution_count": null,
      "outputs": [
        {
          "output_type": "stream",
          "name": "stdout",
          "text": [
            "14.847791576600374\n"
          ]
        },
        {
          "output_type": "execute_result",
          "data": {
            "text/plain": [
              "'Urdu'"
            ],
            "application/vnd.google.colaboratory.intrinsic+json": {
              "type": "string"
            }
          },
          "metadata": {},
          "execution_count": 12
        }
      ]
    }
  ],
  "metadata": {
    "language_info": {
      "name": "python"
    },
    "colab": {
      "provenance": [],
      "include_colab_link": true
    },
    "kernelspec": {
      "name": "python3",
      "display_name": "Python 3"
    }
  },
  "nbformat": 4,
  "nbformat_minor": 5
}