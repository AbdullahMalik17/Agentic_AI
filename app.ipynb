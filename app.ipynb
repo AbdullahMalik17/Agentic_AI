{
  "cells": [
    {
      "cell_type": "markdown",
      "metadata": {
        "id": "view-in-github",
        "colab_type": "text"
      },
      "source": [
        "<a href=\"https://colab.research.google.com/github/AbdullahMalik17/Agentic_AI/blob/main/app.ipynb\" target=\"_parent\"><img src=\"https://colab.research.google.com/assets/colab-badge.svg\" alt=\"Open In Colab\"/></a>"
      ]
    },
    {
      "cell_type": "code",
      "execution_count": 1,
      "id": "3d305aaf",
      "metadata": {
        "vscode": {
          "languageId": "plaintext"
        },
        "id": "3d305aaf",
        "colab": {
          "base_uri": "https://localhost:8080/"
        },
        "outputId": "9df339a8-601c-417f-fb5c-70b2f30ba020"
      },
      "outputs": [
        {
          "output_type": "stream",
          "name": "stdout",
          "text": [
            "\u001b[2K     \u001b[90m━━━━━━━━━━━━━━━━━━━━━━━━━━━━━━━━━━━━━━━━\u001b[0m \u001b[32m44.7/44.7 kB\u001b[0m \u001b[31m1.4 MB/s\u001b[0m eta \u001b[36m0:00:00\u001b[0m\n",
            "\u001b[2K   \u001b[90m━━━━━━━━━━━━━━━━━━━━━━━━━━━━━━━━━━━━━━━━\u001b[0m \u001b[32m130.6/130.6 kB\u001b[0m \u001b[31m4.1 MB/s\u001b[0m eta \u001b[36m0:00:00\u001b[0m\n",
            "\u001b[2K   \u001b[90m━━━━━━━━━━━━━━━━━━━━━━━━━━━━━━━━━━━━━━━━\u001b[0m \u001b[32m129.3/129.3 kB\u001b[0m \u001b[31m5.9 MB/s\u001b[0m eta \u001b[36m0:00:00\u001b[0m\n",
            "\u001b[2K   \u001b[90m━━━━━━━━━━━━━━━━━━━━━━━━━━━━━━━━━━━━━━━━\u001b[0m \u001b[32m155.9/155.9 kB\u001b[0m \u001b[31m8.9 MB/s\u001b[0m eta \u001b[36m0:00:00\u001b[0m\n",
            "\u001b[2K   \u001b[90m━━━━━━━━━━━━━━━━━━━━━━━━━━━━━━━━━━━━━━━━\u001b[0m \u001b[32m45.2/45.2 kB\u001b[0m \u001b[31m1.9 MB/s\u001b[0m eta \u001b[36m0:00:00\u001b[0m\n",
            "\u001b[?25h"
          ]
        }
      ],
      "source": [
        "!pip install -Uq openai-agents"
      ]
    },
    {
      "cell_type": "code",
      "source": [
        "!pip install -q \"openai-agents[viz]\"\n"
      ],
      "metadata": {
        "id": "YdxRMrZQX8cP"
      },
      "id": "YdxRMrZQX8cP",
      "execution_count": 2,
      "outputs": []
    },
    {
      "cell_type": "code",
      "source": [
        "import nest_asyncio\n",
        "nest_asyncio.apply()"
      ],
      "metadata": {
        "id": "JxQqltY5PLkD"
      },
      "id": "JxQqltY5PLkD",
      "execution_count": 3,
      "outputs": []
    },
    {
      "cell_type": "code",
      "source": [
        "from google.colab import userdata\n",
        "gemini_api_key = userdata.get('GEMINI_API_KEY')"
      ],
      "metadata": {
        "id": "4p8pKNaYPutC"
      },
      "id": "4p8pKNaYPutC",
      "execution_count": 4,
      "outputs": []
    },
    {
      "cell_type": "code",
      "source": [
        "from agents import Agent, Runner, AsyncOpenAI, set_default_openai_client, set_tracing_disabled, set_default_openai_api\n",
        "\n",
        "set_tracing_disabled(True)\n",
        "set_default_openai_api(\"chat_completions\")\n",
        "\n",
        "external_client = AsyncOpenAI(\n",
        "    api_key=gemini_api_key,\n",
        "    base_url=\"https://generativelanguage.googleapis.com/v1beta/openai/\",\n",
        ")\n",
        "set_default_openai_client(external_client)\n",
        "\n",
        "agent: Agent = Agent(name=\"Assistant\", instructions=\"You are a helpful assistant\", model=\"gemini-2.0-flash\")\n",
        "\n",
        "result = Runner.run_sync(agent, \"Hello\")\n",
        "\n",
        "print(result.final_output)"
      ],
      "metadata": {
        "colab": {
          "base_uri": "https://localhost:8080/"
        },
        "id": "a4QWenvsPeXC",
        "outputId": "8bc03134-d407-4dbe-e6f5-6f3e1dd8a1e0",
        "collapsed": true
      },
      "id": "a4QWenvsPeXC",
      "execution_count": 5,
      "outputs": [
        {
          "output_type": "stream",
          "name": "stdout",
          "text": [
            "Hello! How can I help you today?\n",
            "\n"
          ]
        }
      ]
    },
    {
      "cell_type": "code",
      "source": [
        "from agents import enable_verbose_stdout_logging\n",
        "\n",
        "# enable_verbose_stdout_logging()\n",
        "agent: Agent = Agent(name=\"Assistant\", instructions=\"You are a helpful assistant\", model=\"gemini-2.0-flash\")\n",
        "result1 = Runner.run_sync(agent, \"Hello , What is the purpose of  life?\")\n",
        "\n",
        "print(result1.final_output)"
      ],
      "metadata": {
        "colab": {
          "base_uri": "https://localhost:8080/"
        },
        "id": "CaukZNOgQgeg",
        "outputId": "bb941611-b27a-4fca-fd08-27fc6a28216b",
        "collapsed": true
      },
      "id": "CaukZNOgQgeg",
      "execution_count": 6,
      "outputs": [
        {
          "output_type": "stream",
          "name": "stdout",
          "text": [
            "That's a big question, and one that philosophers, theologians, and individuals have pondered for centuries! There's no single, universally accepted answer to the purpose of life. It really comes down to personal beliefs, values, and experiences. However, I can offer some perspectives:\n",
            "\n",
            "**Common Philosophical and Religious Perspectives:**\n",
            "\n",
            "*   **Nihilism:** Argues that life is inherently without objective meaning, purpose, or intrinsic value.\n",
            "\n",
            "*   **Existentialism:** Emphasizes individual freedom and responsibility.  Meaning is not pre-ordained but created by each person through their choices and actions. You define your own purpose.\n",
            "\n",
            "*   **Absurdism:** Recognizes the conflict between humanity's innate desire to find meaning and the universe's apparent lack of it. Embracing the absurdity becomes a path forward.\n",
            "\n",
            "*   **Hedonism:** Focuses on pleasure and the avoidance of pain as the primary purpose.\n",
            "\n",
            "*   **Stoicism:** Emphasizes virtue, reason, and living in accordance with nature.  Finding purpose through self-control, acceptance, and contributing to society.\n",
            "\n",
            "*   **Religious Views:** Many religions provide answers to the purpose of life, often involving serving a higher power, following divine commandments, achieving enlightenment, or reaching a state of spiritual union.\n",
            "*   **Buddhism:** The purpose of life is to reach enlightenment through meditation and to end suffering by following the eightfold path.\n",
            "\n",
            "**More Personal and Humanistic Perspectives:**\n",
            "\n",
            "*   **Happiness and Fulfillment:** To find joy, contentment, and satisfaction in life. This can involve pursuing personal passions, building strong relationships, and experiencing new things.\n",
            "\n",
            "*   **Contribution and Service:** To make a positive impact on the world, to help others, and to leave the world a better place than you found it. This might involve volunteering, activism, or simply being kind and compassionate.\n",
            "\n",
            "*   **Growth and Learning:** To learn, grow, and develop as a person. To challenge yourself, overcome obstacles, and become the best version of yourself.\n",
            "\n",
            "*   **Love and Connection:** To build meaningful relationships with others, to experience love, and to feel connected to something larger than yourself.\n",
            "\n",
            "*   **Creating and Expressing:** To express yourself creatively, whether through art, music, writing, or other forms of self-expression.\n",
            "\n",
            "*   **Living in the Moment:** To appreciate the present moment and to find joy in the simple things.\n",
            "\n",
            "**Ultimately, the purpose of life is what you make it.**  It's a question that you can explore throughout your life, and your answer may change over time as you grow and evolve.\n",
            "\n",
            "**Here are some questions you might ask yourself to help you find your own purpose:**\n",
            "\n",
            "*   What am I passionate about?\n",
            "*   What am I good at?\n",
            "*   What do I value most in life?\n",
            "*   What kind of impact do I want to have on the world?\n",
            "*   What brings me joy and fulfillment?\n",
            "*   What do I want to be remembered for?\n",
            "\n",
            "It's okay if you don't have all the answers right now. The search for meaning is a journey, not a destination.\n",
            "\n",
            "Do you have any particular areas you're interested in exploring further? Perhaps a specific philosophical perspective or a type of activity that feels particularly meaningful to you?  I can try to provide more specific information if you have a direction in mind.\n",
            "\n"
          ]
        }
      ]
    },
    {
      "cell_type": "markdown",
      "source": [
        "# How to give instruction about tools to agent ."
      ],
      "metadata": {
        "id": "b78moxtuRpph"
      },
      "id": "b78moxtuRpph"
    },
    {
      "cell_type": "code",
      "source": [
        "from agents import enable_verbose_stdout_logging, function_tool\n",
        "@function_tool\n",
        "def get_weather(city : str)-> str :\n",
        "  \"\"\"\n",
        "  Getting data from weather forecaster .\n",
        "\n",
        "    Args :\n",
        "      city  : City name\n",
        "\n",
        "    Returns :\n",
        "      Weather forecast for the city\n",
        "  \"\"\"\n",
        "  return f\"The weather in {city} is sunny\"\n",
        "\n",
        "# enable_verbose_stdout_logging()\n",
        "agent: Agent = Agent(name=\"Assistant\", instructions=\"You are a helpful assistant\", model=\"gemini-2.0-flash\",tools=[get_weather])\n",
        "result1 = Runner.run_sync(agent, \"Hello , What is the weather of pakistan country?\")\n",
        "\n",
        "print(result1.final_output)"
      ],
      "metadata": {
        "colab": {
          "base_uri": "https://localhost:8080/"
        },
        "collapsed": true,
        "id": "QMD6c-uANOHD",
        "outputId": "acf0675f-94ca-4422-ac7d-050f90f66663"
      },
      "id": "QMD6c-uANOHD",
      "execution_count": 8,
      "outputs": [
        {
          "output_type": "stream",
          "name": "stdout",
          "text": [
            "I can only give you the weather for a specific city, not a country. Could you please provide me with a city in Pakistan?\n",
            "\n"
          ]
        }
      ]
    },
    {
      "cell_type": "code",
      "source": [
        "from agents import enable_verbose_stdout_logging, function_tool\n",
        "@function_tool\n",
        "def get_weather(city : str)-> str :\n",
        "  \"\"\"\n",
        "  Getting data from weather forecaster .\n",
        "\n",
        "    Args :\n",
        "      city  : City name\n",
        "\n",
        "    Returns :\n",
        "      Weather forecast for the city\n",
        "  \"\"\"\n",
        "  return f\"The weather in {city} is sunny\"\n",
        "\n",
        "@function_tool\n",
        "def get_latestnews_industry(Technology)-> str :\n",
        "  \"\"\"\n",
        "  Getting data from news forecaster .\n",
        "\n",
        "    Args :\n",
        "      city  : industry name\n",
        "\n",
        "    Returns :\n",
        "      Agentic AI is the latest Tech\n",
        "  \"\"\"\n",
        "  return f\"The latest technology is Agentic AI\"\n",
        "\n",
        "# enable_verbose_stdout_logging()\n",
        "agent: Agent = Agent(name=\"Assistant\", instructions=\"You are a helpful assistant\", model=\"gemini-2.0-flash\",tools=[get_weather,get_latestnews_industry])\n",
        "result1 = Runner.run_sync(agent, \"Hello , What is the weather of Bahawalpur Andd what is the latest news about Agentic AI?\")\n",
        "\n",
        "print(result1.final_output)\n",
        "from agents.extensions.visualization import draw_graph\n",
        "draw_graph(agent)\n"
      ],
      "metadata": {
        "colab": {
          "base_uri": "https://localhost:8080/",
          "height": 326
        },
        "id": "7chj2Qm_TZZ6",
        "outputId": "edbca1d1-ddbd-4dc7-ff7a-b6e8d3829e4a",
        "collapsed": true
      },
      "id": "7chj2Qm_TZZ6",
      "execution_count": 9,
      "outputs": [
        {
          "output_type": "stream",
          "name": "stdout",
          "text": [
            "OK. The weather in Bahawalpur is sunny and The latest technology is Agentic AI.\n",
            "\n"
          ]
        },
        {
          "output_type": "execute_result",
          "data": {
            "image/svg+xml": "<?xml version=\"1.0\" encoding=\"UTF-8\" standalone=\"no\"?>\n<!DOCTYPE svg PUBLIC \"-//W3C//DTD SVG 1.1//EN\"\n \"http://www.w3.org/Graphics/SVG/1.1/DTD/svg11.dtd\">\n<!-- Generated by graphviz version 2.43.0 (0)\n -->\n<!-- Title: G Pages: 1 -->\n<svg width=\"498pt\" height=\"203pt\"\n viewBox=\"0.00 0.00 497.63 203.05\" xmlns=\"http://www.w3.org/2000/svg\" xmlns:xlink=\"http://www.w3.org/1999/xlink\">\n<g id=\"graph0\" class=\"graph\" transform=\"scale(1 1) rotate(0) translate(4 199.05)\">\n<title>G</title>\n<polygon fill=\"white\" stroke=\"transparent\" points=\"-4,4 -4,-199.05 493.63,-199.05 493.63,4 -4,4\"/>\n<!-- __start__ -->\n<g id=\"node1\" class=\"node\">\n<title>__start__</title>\n<ellipse fill=\"lightblue\" stroke=\"black\" cx=\"179.79\" cy=\"-178.79\" rx=\"51.74\" ry=\"16.03\"/>\n<text text-anchor=\"middle\" x=\"179.79\" y=\"-175.09\" font-family=\"Arial\" font-size=\"14.00\">__start__</text>\n</g>\n<!-- Assistant -->\n<g id=\"node3\" class=\"node\">\n<title>Assistant</title>\n<polygon fill=\"lightyellow\" stroke=\"black\" points=\"233.79,-126.53 125.79,-126.53 125.79,-68.53 233.79,-68.53 233.79,-126.53\"/>\n<text text-anchor=\"middle\" x=\"179.79\" y=\"-93.83\" font-family=\"Arial\" font-size=\"14.00\">Assistant</text>\n</g>\n<!-- __start__&#45;&gt;Assistant -->\n<g id=\"edge1\" class=\"edge\">\n<title>__start__&#45;&gt;Assistant</title>\n<path fill=\"none\" stroke=\"black\" stroke-width=\"1.5\" d=\"M179.79,-162.51C179.79,-155.12 179.79,-145.89 179.79,-136.76\"/>\n<polygon fill=\"black\" stroke=\"black\" stroke-width=\"1.5\" points=\"183.29,-136.6 179.79,-126.6 176.29,-136.6 183.29,-136.6\"/>\n</g>\n<!-- __end__ -->\n<g id=\"node2\" class=\"node\">\n<title>__end__</title>\n<ellipse fill=\"lightblue\" stroke=\"black\" cx=\"48.79\" cy=\"-16.26\" rx=\"48.58\" ry=\"16.03\"/>\n<text text-anchor=\"middle\" x=\"48.79\" y=\"-12.56\" font-family=\"Arial\" font-size=\"14.00\">__end__</text>\n</g>\n<!-- Assistant&#45;&gt;__end__ -->\n<g id=\"edge6\" class=\"edge\">\n<title>Assistant&#45;&gt;__end__</title>\n<path fill=\"none\" stroke=\"black\" stroke-width=\"1.5\" d=\"M133.24,-68.36C115.65,-57.72 96.08,-45.88 80.21,-36.27\"/>\n<polygon fill=\"black\" stroke=\"black\" stroke-width=\"1.5\" points=\"81.7,-33.08 71.33,-30.9 78.07,-39.07 81.7,-33.08\"/>\n</g>\n<!-- get_weather -->\n<g id=\"node4\" class=\"node\">\n<title>get_weather</title>\n<ellipse fill=\"lightgreen\" stroke=\"black\" cx=\"179.79\" cy=\"-16.26\" rx=\"64.19\" ry=\"16.03\"/>\n<text text-anchor=\"middle\" x=\"179.79\" y=\"-12.56\" font-family=\"Arial\" font-size=\"14.00\">get_weather</text>\n</g>\n<!-- Assistant&#45;&gt;get_weather -->\n<g id=\"edge2\" class=\"edge\">\n<title>Assistant&#45;&gt;get_weather</title>\n<path fill=\"none\" stroke=\"black\" stroke-width=\"1.5\" stroke-dasharray=\"1,5\" d=\"M173.3,-68.36C172.92,-60.07 172.96,-51.04 173.43,-42.92\"/>\n<polygon fill=\"black\" stroke=\"black\" stroke-width=\"1.5\" points=\"176.92,-43.15 174.29,-32.89 169.95,-42.55 176.92,-43.15\"/>\n</g>\n<!-- get_latestnews_industry -->\n<g id=\"node5\" class=\"node\">\n<title>get_latestnews_industry</title>\n<ellipse fill=\"lightgreen\" stroke=\"black\" cx=\"375.79\" cy=\"-16.26\" rx=\"113.69\" ry=\"16.03\"/>\n<text text-anchor=\"middle\" x=\"375.79\" y=\"-12.56\" font-family=\"Arial\" font-size=\"14.00\">get_latestnews_industry</text>\n</g>\n<!-- Assistant&#45;&gt;get_latestnews_industry -->\n<g id=\"edge4\" class=\"edge\">\n<title>Assistant&#45;&gt;get_latestnews_industry</title>\n<path fill=\"none\" stroke=\"black\" stroke-width=\"1.5\" stroke-dasharray=\"1,5\" d=\"M233.91,-72.1C262.53,-60.22 297.4,-46.19 325.44,-35.29\"/>\n<polygon fill=\"black\" stroke=\"black\" stroke-width=\"1.5\" points=\"326.99,-38.45 335.06,-31.58 324.47,-31.92 326.99,-38.45\"/>\n</g>\n<!-- get_weather&#45;&gt;Assistant -->\n<g id=\"edge3\" class=\"edge\">\n<title>get_weather&#45;&gt;Assistant</title>\n<path fill=\"none\" stroke=\"black\" stroke-width=\"1.5\" stroke-dasharray=\"1,5\" d=\"M185.29,-32.89C186.17,-40.23 186.59,-49.33 186.54,-58.34\"/>\n<polygon fill=\"black\" stroke=\"black\" stroke-width=\"1.5\" points=\"183.04,-58.27 186.28,-68.36 190.03,-58.45 183.04,-58.27\"/>\n</g>\n<!-- get_latestnews_industry&#45;&gt;Assistant -->\n<g id=\"edge5\" class=\"edge\">\n<title>get_latestnews_industry&#45;&gt;Assistant</title>\n<path fill=\"none\" stroke=\"black\" stroke-width=\"1.5\" stroke-dasharray=\"1,5\" d=\"M344.87,-31.94C317.66,-43.55 277.33,-59.97 243.31,-73.35\"/>\n<polygon fill=\"black\" stroke=\"black\" stroke-width=\"1.5\" points=\"241.93,-70.13 233.89,-77.04 244.48,-76.65 241.93,-70.13\"/>\n</g>\n</g>\n</svg>\n",
            "text/plain": [
              "<graphviz.sources.Source at 0x78c658f85a90>"
            ]
          },
          "metadata": {},
          "execution_count": 9
        }
      ]
    },
    {
      "cell_type": "markdown",
      "source": [
        "# HandsOff"
      ],
      "metadata": {
        "id": "rlpyUGIBe7Ga"
      },
      "id": "rlpyUGIBe7Ga"
    },
    {
      "cell_type": "code",
      "source": [
        "# enable_verbose_stdout_logging()\n",
        "panaversity_agent: Agent = Agent(name=\"Panaversity Assistant\",\n",
        "                                 instructions=\"You are a helpful assistant . You only give intruction about panaversity . \",\n",
        "                                 model=\"gemini-2.0-flash\",\n",
        "                                 handoff_description=\"Panaversity Expert \")\n",
        "agentic_expert: Agent = Agent(name=\"Agentic Assistant\",\n",
        "                                 instructions=\"You are a helpful assistant . You only give intruction about Agentic ai . \",\n",
        "                                 model=\"gemini-2.0-flash\",\n",
        "                                 handoff_description=\"Agentic Expert\")\n",
        "triage_agent: Agent = Agent(name=\"Assistant\",\n",
        "                                 instructions=\"You are a helpful assistant\",\n",
        "                                 model=\"gemini-2.0-flash\",\n",
        "                                 handoffs=[panaversity_agent,agentic_expert],\n",
        "                                 tools=[get_weather,get_latestnews_industry])\n",
        "\n",
        "result2 = Runner.run_sync(triage_agent, \"Hello , What is the Panaversity . Do handoff to panaversity expert and he tell me about it .\")\n",
        "print(result2.final_output)"
      ],
      "metadata": {
        "id": "SjJDeIESe5q3",
        "colab": {
          "base_uri": "https://localhost:8080/"
        },
        "outputId": "531c4768-0667-4fb3-ce0d-4e9c7a8c95f9"
      },
      "id": "SjJDeIESe5q3",
      "execution_count": 10,
      "outputs": [
        {
          "output_type": "stream",
          "name": "stdout",
          "text": [
            "Okay, I understand you want to know about Panaversity. I'm handing you off to the Panaversity Assistant who can give you all the details!\n",
            "\n"
          ]
        }
      ]
    },
    {
      "cell_type": "code",
      "source": [
        "result2.last_agent"
      ],
      "metadata": {
        "colab": {
          "base_uri": "https://localhost:8080/"
        },
        "id": "ZCvUotL1W-MS",
        "outputId": "0c272928-f453-44fe-85ab-9b72ce90e888"
      },
      "id": "ZCvUotL1W-MS",
      "execution_count": null,
      "outputs": [
        {
          "output_type": "execute_result",
          "data": {
            "text/plain": [
              "Agent(name='Panaversity Assistant', instructions='You are a helpful assistant . You only give intruction about panaversity . ', prompt=None, handoff_description='Panaversity Expert ', handoffs=[], model='gemini-2.0-flash', model_settings=ModelSettings(temperature=None, top_p=None, frequency_penalty=None, presence_penalty=None, tool_choice=None, parallel_tool_calls=None, truncation=None, max_tokens=None, reasoning=None, metadata=None, store=None, include_usage=None, response_include=None, extra_query=None, extra_body=None, extra_headers=None, extra_args=None), tools=[], mcp_servers=[], mcp_config={}, input_guardrails=[], output_guardrails=[], output_type=None, hooks=None, tool_use_behavior='run_llm_again', reset_tool_choice=True)"
            ]
          },
          "metadata": {},
          "execution_count": 37
        }
      ]
    },
    {
      "cell_type": "markdown",
      "source": [
        "# TO visualise the agent"
      ],
      "metadata": {
        "id": "K62SqnPeX3_4"
      },
      "id": "K62SqnPeX3_4"
    },
    {
      "cell_type": "code",
      "source": [
        "from agents.extensions.visualization import draw_graph\n",
        "draw_graph(triage_agent)"
      ],
      "metadata": {
        "colab": {
          "base_uri": "https://localhost:8080/",
          "height": 417
        },
        "id": "hsgGFFL5YTz6",
        "outputId": "ff8eb10c-3656-4750-e015-78a5db78ac64"
      },
      "id": "hsgGFFL5YTz6",
      "execution_count": 11,
      "outputs": [
        {
          "output_type": "execute_result",
          "data": {
            "image/svg+xml": "<?xml version=\"1.0\" encoding=\"UTF-8\" standalone=\"no\"?>\n<!DOCTYPE svg PUBLIC \"-//W3C//DTD SVG 1.1//EN\"\n \"http://www.w3.org/Graphics/SVG/1.1/DTD/svg11.dtd\">\n<!-- Generated by graphviz version 2.43.0 (0)\n -->\n<!-- Title: G Pages: 1 -->\n<svg width=\"682pt\" height=\"297pt\"\n viewBox=\"0.00 0.00 681.85 297.05\" xmlns=\"http://www.w3.org/2000/svg\" xmlns:xlink=\"http://www.w3.org/1999/xlink\">\n<g id=\"graph0\" class=\"graph\" transform=\"scale(1 1) rotate(0) translate(4 293.05)\">\n<title>G</title>\n<polygon fill=\"white\" stroke=\"transparent\" points=\"-4,4 -4,-293.05 677.85,-293.05 677.85,4 -4,4\"/>\n<!-- __start__ -->\n<g id=\"node1\" class=\"node\">\n<title>__start__</title>\n<ellipse fill=\"lightblue\" stroke=\"black\" cx=\"260.35\" cy=\"-272.79\" rx=\"51.74\" ry=\"16.03\"/>\n<text text-anchor=\"middle\" x=\"260.35\" y=\"-269.09\" font-family=\"Arial\" font-size=\"14.00\">__start__</text>\n</g>\n<!-- Assistant -->\n<g id=\"node3\" class=\"node\">\n<title>Assistant</title>\n<polygon fill=\"lightyellow\" stroke=\"black\" points=\"314.35,-220.53 206.35,-220.53 206.35,-162.53 314.35,-162.53 314.35,-220.53\"/>\n<text text-anchor=\"middle\" x=\"260.35\" y=\"-187.83\" font-family=\"Arial\" font-size=\"14.00\">Assistant</text>\n</g>\n<!-- __start__&#45;&gt;Assistant -->\n<g id=\"edge1\" class=\"edge\">\n<title>__start__&#45;&gt;Assistant</title>\n<path fill=\"none\" stroke=\"black\" stroke-width=\"1.5\" d=\"M260.35,-256.51C260.35,-249.12 260.35,-239.89 260.35,-230.76\"/>\n<polygon fill=\"black\" stroke=\"black\" stroke-width=\"1.5\" points=\"263.85,-230.6 260.35,-220.6 256.85,-230.6 263.85,-230.6\"/>\n</g>\n<!-- __end__ -->\n<g id=\"node2\" class=\"node\">\n<title>__end__</title>\n<ellipse fill=\"lightblue\" stroke=\"black\" cx=\"539.35\" cy=\"-16.26\" rx=\"48.58\" ry=\"16.03\"/>\n<text text-anchor=\"middle\" x=\"539.35\" y=\"-12.56\" font-family=\"Arial\" font-size=\"14.00\">__end__</text>\n</g>\n<!-- get_weather -->\n<g id=\"node4\" class=\"node\">\n<title>get_weather</title>\n<ellipse fill=\"lightgreen\" stroke=\"black\" cx=\"64.35\" cy=\"-97.53\" rx=\"64.19\" ry=\"16.03\"/>\n<text text-anchor=\"middle\" x=\"64.35\" y=\"-93.83\" font-family=\"Arial\" font-size=\"14.00\">get_weather</text>\n</g>\n<!-- Assistant&#45;&gt;get_weather -->\n<g id=\"edge2\" class=\"edge\">\n<title>Assistant&#45;&gt;get_weather</title>\n<path fill=\"none\" stroke=\"black\" stroke-width=\"1.5\" stroke-dasharray=\"1,5\" d=\"M206.24,-167.9C171.77,-152.3 128.24,-131.81 98.48,-117.15\"/>\n<polygon fill=\"black\" stroke=\"black\" stroke-width=\"1.5\" points=\"99.84,-113.92 89.33,-112.61 96.73,-120.19 99.84,-113.92\"/>\n</g>\n<!-- get_latestnews_industry -->\n<g id=\"node5\" class=\"node\">\n<title>get_latestnews_industry</title>\n<ellipse fill=\"lightgreen\" stroke=\"black\" cx=\"260.35\" cy=\"-97.53\" rx=\"113.69\" ry=\"16.03\"/>\n<text text-anchor=\"middle\" x=\"260.35\" y=\"-93.83\" font-family=\"Arial\" font-size=\"14.00\">get_latestnews_industry</text>\n</g>\n<!-- Assistant&#45;&gt;get_latestnews_industry -->\n<g id=\"edge4\" class=\"edge\">\n<title>Assistant&#45;&gt;get_latestnews_industry</title>\n<path fill=\"none\" stroke=\"black\" stroke-width=\"1.5\" stroke-dasharray=\"1,5\" d=\"M254.07,-162.42C253.39,-150.21 253.44,-135.99 254.23,-124.08\"/>\n<polygon fill=\"black\" stroke=\"black\" stroke-width=\"1.5\" points=\"257.73,-124.18 255.16,-113.9 250.76,-123.54 257.73,-124.18\"/>\n</g>\n<!-- Panaversity Assistant -->\n<g id=\"node6\" class=\"node\">\n<title>Panaversity Assistant</title>\n<path fill=\"none\" stroke=\"black\" d=\"M524.85,-126.53C524.85,-126.53 403.85,-126.53 403.85,-126.53 397.85,-126.53 391.85,-120.53 391.85,-114.53 391.85,-114.53 391.85,-80.53 391.85,-80.53 391.85,-74.53 397.85,-68.53 403.85,-68.53 403.85,-68.53 524.85,-68.53 524.85,-68.53 530.85,-68.53 536.85,-74.53 536.85,-80.53 536.85,-80.53 536.85,-114.53 536.85,-114.53 536.85,-120.53 530.85,-126.53 524.85,-126.53\"/>\n<text text-anchor=\"middle\" x=\"464.35\" y=\"-93.83\" font-family=\"Arial\" font-size=\"14.00\">Panaversity Assistant</text>\n</g>\n<!-- Assistant&#45;&gt;Panaversity Assistant -->\n<g id=\"edge6\" class=\"edge\">\n<title>Assistant&#45;&gt;Panaversity Assistant</title>\n<path fill=\"none\" stroke=\"black\" stroke-width=\"1.5\" d=\"M314.48,-166.11C338.45,-155.3 366.98,-142.44 392.68,-130.85\"/>\n<polygon fill=\"black\" stroke=\"black\" stroke-width=\"1.5\" points=\"394.33,-133.94 402.01,-126.64 391.46,-127.56 394.33,-133.94\"/>\n</g>\n<!-- Agentic Assistant -->\n<g id=\"node7\" class=\"node\">\n<title>Agentic Assistant</title>\n<path fill=\"none\" stroke=\"black\" d=\"M661.85,-126.53C661.85,-126.53 566.85,-126.53 566.85,-126.53 560.85,-126.53 554.85,-120.53 554.85,-114.53 554.85,-114.53 554.85,-80.53 554.85,-80.53 554.85,-74.53 560.85,-68.53 566.85,-68.53 566.85,-68.53 661.85,-68.53 661.85,-68.53 667.85,-68.53 673.85,-74.53 673.85,-80.53 673.85,-80.53 673.85,-114.53 673.85,-114.53 673.85,-120.53 667.85,-126.53 661.85,-126.53\"/>\n<text text-anchor=\"middle\" x=\"614.35\" y=\"-93.83\" font-family=\"Arial\" font-size=\"14.00\">Agentic Assistant</text>\n</g>\n<!-- Assistant&#45;&gt;Agentic Assistant -->\n<g id=\"edge8\" class=\"edge\">\n<title>Assistant&#45;&gt;Agentic Assistant</title>\n<path fill=\"none\" stroke=\"black\" stroke-width=\"1.5\" d=\"M314.57,-181.25C370.49,-171.04 460.16,-152.91 544.73,-126.87\"/>\n<polygon fill=\"black\" stroke=\"black\" stroke-width=\"1.5\" points=\"545.98,-130.15 554.48,-123.83 543.89,-123.47 545.98,-130.15\"/>\n</g>\n<!-- get_weather&#45;&gt;Assistant -->\n<g id=\"edge3\" class=\"edge\">\n<title>get_weather&#45;&gt;Assistant</title>\n<path fill=\"none\" stroke=\"black\" stroke-width=\"1.5\" stroke-dasharray=\"1,5\" d=\"M97.11,-111.61C124.47,-123.65 164.11,-142.01 197.51,-157.99\"/>\n<polygon fill=\"black\" stroke=\"black\" stroke-width=\"1.5\" points=\"196.22,-161.25 206.75,-162.42 199.25,-154.94 196.22,-161.25\"/>\n</g>\n<!-- get_latestnews_industry&#45;&gt;Assistant -->\n<g id=\"edge5\" class=\"edge\">\n<title>get_latestnews_industry&#45;&gt;Assistant</title>\n<path fill=\"none\" stroke=\"black\" stroke-width=\"1.5\" stroke-dasharray=\"1,5\" d=\"M265.54,-113.9C266.82,-124.42 267.31,-138.85 267.01,-152.36\"/>\n<polygon fill=\"black\" stroke=\"black\" stroke-width=\"1.5\" points=\"263.51,-152.3 266.62,-162.42 270.5,-152.57 263.51,-152.3\"/>\n</g>\n<!-- Panaversity Assistant&#45;&gt;__end__ -->\n<g id=\"edge7\" class=\"edge\">\n<title>Panaversity Assistant&#45;&gt;__end__</title>\n<path fill=\"none\" stroke=\"black\" stroke-width=\"1.5\" d=\"M491,-68.36C499.99,-58.86 509.89,-48.4 518.37,-39.43\"/>\n<polygon fill=\"black\" stroke=\"black\" stroke-width=\"1.5\" points=\"521.08,-41.66 525.41,-32 515.99,-36.85 521.08,-41.66\"/>\n</g>\n<!-- Agentic Assistant&#45;&gt;__end__ -->\n<g id=\"edge9\" class=\"edge\">\n<title>Agentic Assistant&#45;&gt;__end__</title>\n<path fill=\"none\" stroke=\"black\" stroke-width=\"1.5\" d=\"M587.69,-68.36C578.71,-58.86 568.81,-48.4 560.32,-39.43\"/>\n<polygon fill=\"black\" stroke=\"black\" stroke-width=\"1.5\" points=\"562.7,-36.85 553.29,-32 557.62,-41.66 562.7,-36.85\"/>\n</g>\n</g>\n</svg>\n",
            "text/plain": [
              "<graphviz.sources.Source at 0x78c658fde1d0>"
            ]
          },
          "metadata": {},
          "execution_count": 11
        }
      ]
    }
  ],
  "metadata": {
    "language_info": {
      "name": "python"
    },
    "colab": {
      "provenance": [],
      "include_colab_link": true
    },
    "kernelspec": {
      "name": "python3",
      "display_name": "Python 3"
    }
  },
  "nbformat": 4,
  "nbformat_minor": 5
}